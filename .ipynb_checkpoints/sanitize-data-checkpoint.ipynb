{
 "cells": [
  {
   "cell_type": "code",
   "execution_count": 1,
   "metadata": {
    "pycharm": {
     "is_executing": true
    }
   },
   "outputs": [
    {
     "data": {
      "text/html": [
       "<div>\n",
       "<style scoped>\n",
       "    .dataframe tbody tr th:only-of-type {\n",
       "        vertical-align: middle;\n",
       "    }\n",
       "\n",
       "    .dataframe tbody tr th {\n",
       "        vertical-align: top;\n",
       "    }\n",
       "\n",
       "    .dataframe thead th {\n",
       "        text-align: right;\n",
       "    }\n",
       "</style>\n",
       "<table border=\"1\" class=\"dataframe\">\n",
       "  <thead>\n",
       "    <tr style=\"text-align: right;\">\n",
       "      <th></th>\n",
       "      <th>link</th>\n",
       "      <th>price</th>\n",
       "      <th>title</th>\n",
       "      <th>address</th>\n",
       "      <th>type</th>\n",
       "      <th>rooms</th>\n",
       "      <th>bathroom</th>\n",
       "      <th>electricity</th>\n",
       "      <th>parking_spots</th>\n",
       "      <th>utilities</th>\n",
       "      <th>furnished</th>\n",
       "      <th>size</th>\n",
       "      <th>air_conditioned</th>\n",
       "      <th>allow_pets</th>\n",
       "    </tr>\n",
       "  </thead>\n",
       "  <tbody>\n",
       "    <tr>\n",
       "      <th>0</th>\n",
       "      <td>https://www.kijiji.ca/v-appartement-condo/vill...</td>\n",
       "      <td>995.0</td>\n",
       "      <td>BEAU 31/2 RENOVÉ PRÉS DE MÉTRO CADILLAC</td>\n",
       "      <td>3280 DE LA PÉPINIÈRE, MONTREAL, QC, H1N 3N4</td>\n",
       "      <td>Appartement</td>\n",
       "      <td>3 1/2</td>\n",
       "      <td>1.0</td>\n",
       "      <td>True</td>\n",
       "      <td>0</td>\n",
       "      <td>, Buanderie (dans l'immeuble), , Réfrigérateur...</td>\n",
       "      <td>False</td>\n",
       "      <td>Non disponible</td>\n",
       "      <td>False</td>\n",
       "      <td>Non</td>\n",
       "    </tr>\n",
       "    <tr>\n",
       "      <th>1</th>\n",
       "      <td>https://www.kijiji.ca/v-appartement-condo/vill...</td>\n",
       "      <td>1400.0</td>\n",
       "      <td>{3 1/2 - Downtown Griffintown} Prime Location ...</td>\n",
       "      <td>688 Rue Notre-Dame Ouest, Montreal, QC, H3W 1J4</td>\n",
       "      <td>Condo</td>\n",
       "      <td>3 1/2</td>\n",
       "      <td>1.0</td>\n",
       "      <td>False</td>\n",
       "      <td>0</td>\n",
       "      <td>Buanderie (dans l'appartement), , Lave-vaissel...</td>\n",
       "      <td>False</td>\n",
       "      <td>Non disponible</td>\n",
       "      <td>True</td>\n",
       "      <td>Non</td>\n",
       "    </tr>\n",
       "    <tr>\n",
       "      <th>2</th>\n",
       "      <td>https://www.kijiji.ca/v-appartement-condo/vill...</td>\n",
       "      <td>1490.0</td>\n",
       "      <td>Appartement 4 1/2 à louer plateau mont-royal t...</td>\n",
       "      <td>3555, rue Berri, Montreal, QC, H2L 4G4</td>\n",
       "      <td>Appartement</td>\n",
       "      <td>4 1/2</td>\n",
       "      <td>2.0</td>\n",
       "      <td>True</td>\n",
       "      <td>0</td>\n",
       "      <td>, Buanderie (dans l'immeuble), Lave-vaisselle,...</td>\n",
       "      <td>False</td>\n",
       "      <td>Non disponible</td>\n",
       "      <td>True</td>\n",
       "      <td>Non</td>\n",
       "    </tr>\n",
       "    <tr>\n",
       "      <th>3</th>\n",
       "      <td>https://www.kijiji.ca/v-appartement-condo/vill...</td>\n",
       "      <td>1995.0</td>\n",
       "      <td>Brand New &amp; Modern Large 5 1/2 (3bed) in Heart...</td>\n",
       "      <td>4308 Rue Saint-Antoine O, Montréal, QC H4C 1C5...</td>\n",
       "      <td>Appartement</td>\n",
       "      <td>5 1/2</td>\n",
       "      <td>1.0</td>\n",
       "      <td>NaN</td>\n",
       "      <td>0</td>\n",
       "      <td>Buanderie (dans l'appartement), , Lave-vaissel...</td>\n",
       "      <td>False</td>\n",
       "      <td>900</td>\n",
       "      <td>True</td>\n",
       "      <td>Limité</td>\n",
       "    </tr>\n",
       "    <tr>\n",
       "      <th>4</th>\n",
       "      <td>https://www.kijiji.ca/v-appartement-condo/vill...</td>\n",
       "      <td>1875.0</td>\n",
       "      <td>{4 1/2 vieux montreal }  {Walk Score 99}</td>\n",
       "      <td>688 Rue Notre-Dame Ouest, Montreal, QC, H3W 1J4</td>\n",
       "      <td>Appartement</td>\n",
       "      <td>4 1/2</td>\n",
       "      <td>1.5</td>\n",
       "      <td>NaN</td>\n",
       "      <td>0</td>\n",
       "      <td>Buanderie (dans l'appartement), , Lave-vaissel...</td>\n",
       "      <td>False</td>\n",
       "      <td>Non disponible</td>\n",
       "      <td>True</td>\n",
       "      <td>Non</td>\n",
       "    </tr>\n",
       "  </tbody>\n",
       "</table>\n",
       "</div>"
      ],
      "text/plain": [
       "                                                link   price  \\\n",
       "0  https://www.kijiji.ca/v-appartement-condo/vill...   995.0   \n",
       "1  https://www.kijiji.ca/v-appartement-condo/vill...  1400.0   \n",
       "2  https://www.kijiji.ca/v-appartement-condo/vill...  1490.0   \n",
       "3  https://www.kijiji.ca/v-appartement-condo/vill...  1995.0   \n",
       "4  https://www.kijiji.ca/v-appartement-condo/vill...  1875.0   \n",
       "\n",
       "                                               title  \\\n",
       "0            BEAU 31/2 RENOVÉ PRÉS DE MÉTRO CADILLAC   \n",
       "1  {3 1/2 - Downtown Griffintown} Prime Location ...   \n",
       "2  Appartement 4 1/2 à louer plateau mont-royal t...   \n",
       "3  Brand New & Modern Large 5 1/2 (3bed) in Heart...   \n",
       "4           {4 1/2 vieux montreal }  {Walk Score 99}   \n",
       "\n",
       "                                             address         type  rooms  \\\n",
       "0        3280 DE LA PÉPINIÈRE, MONTREAL, QC, H1N 3N4  Appartement  3 1/2   \n",
       "1    688 Rue Notre-Dame Ouest, Montreal, QC, H3W 1J4        Condo  3 1/2   \n",
       "2             3555, rue Berri, Montreal, QC, H2L 4G4  Appartement  4 1/2   \n",
       "3  4308 Rue Saint-Antoine O, Montréal, QC H4C 1C5...  Appartement  5 1/2   \n",
       "4    688 Rue Notre-Dame Ouest, Montreal, QC, H3W 1J4  Appartement  4 1/2   \n",
       "\n",
       "   bathroom electricity parking_spots  \\\n",
       "0       1.0        True             0   \n",
       "1       1.0       False             0   \n",
       "2       2.0        True             0   \n",
       "3       1.0         NaN             0   \n",
       "4       1.5         NaN             0   \n",
       "\n",
       "                                           utilities  furnished  \\\n",
       "0  , Buanderie (dans l'immeuble), , Réfrigérateur...      False   \n",
       "1  Buanderie (dans l'appartement), , Lave-vaissel...      False   \n",
       "2  , Buanderie (dans l'immeuble), Lave-vaisselle,...      False   \n",
       "3  Buanderie (dans l'appartement), , Lave-vaissel...      False   \n",
       "4  Buanderie (dans l'appartement), , Lave-vaissel...      False   \n",
       "\n",
       "             size  air_conditioned allow_pets  \n",
       "0  Non disponible            False        Non  \n",
       "1  Non disponible             True        Non  \n",
       "2  Non disponible             True        Non  \n",
       "3             900             True     Limité  \n",
       "4  Non disponible             True        Non  "
      ]
     },
     "execution_count": 1,
     "metadata": {},
     "output_type": "execute_result"
    }
   ],
   "source": [
    "import pandas as pd\n",
    "import numpy as np\n",
    "raw_ads = pd.read_csv(\"ads_kijiji.csv\", index_col=0)\n",
    "raw_ads = raw_ads.rename(columns={\"services_Électricité\":\"electricity\"})\n",
    "raw_ads.head(5)"
   ]
  },
  {
   "cell_type": "markdown",
   "metadata": {
    "pycharm": {
     "is_executing": true
    }
   },
   "source": [
    "Let's load the listing scraping to merge with the current dataset and have the distance from downtown for all the appartments"
   ]
  },
  {
   "cell_type": "code",
   "execution_count": 25,
   "metadata": {
    "scrolled": true
   },
   "outputs": [
    {
     "data": {
      "text/html": [
       "<div>\n",
       "<style scoped>\n",
       "    .dataframe tbody tr th:only-of-type {\n",
       "        vertical-align: middle;\n",
       "    }\n",
       "\n",
       "    .dataframe tbody tr th {\n",
       "        vertical-align: top;\n",
       "    }\n",
       "\n",
       "    .dataframe thead th {\n",
       "        text-align: right;\n",
       "    }\n",
       "</style>\n",
       "<table border=\"1\" class=\"dataframe\">\n",
       "  <thead>\n",
       "    <tr style=\"text-align: right;\">\n",
       "      <th></th>\n",
       "      <th>page</th>\n",
       "      <th>link</th>\n",
       "      <th>distance</th>\n",
       "    </tr>\n",
       "  </thead>\n",
       "  <tbody>\n",
       "    <tr>\n",
       "      <th>0</th>\n",
       "      <td>1</td>\n",
       "      <td>https://www.kijiji.ca/v-appartement-condo/vill...</td>\n",
       "      <td>&lt; 9 km</td>\n",
       "    </tr>\n",
       "    <tr>\n",
       "      <th>1</th>\n",
       "      <td>1</td>\n",
       "      <td>https://www.kijiji.ca/v-appartement-condo/vill...</td>\n",
       "      <td>Près de chez vous</td>\n",
       "    </tr>\n",
       "    <tr>\n",
       "      <th>2</th>\n",
       "      <td>1</td>\n",
       "      <td>https://www.kijiji.ca/v-appartement-condo/vill...</td>\n",
       "      <td>&lt; 2 km</td>\n",
       "    </tr>\n",
       "    <tr>\n",
       "      <th>3</th>\n",
       "      <td>1</td>\n",
       "      <td>https://www.kijiji.ca/v-appartement-condo/vill...</td>\n",
       "      <td>&lt; 3 km</td>\n",
       "    </tr>\n",
       "    <tr>\n",
       "      <th>4</th>\n",
       "      <td>1</td>\n",
       "      <td>https://www.kijiji.ca/v-appartement-condo/vill...</td>\n",
       "      <td>Près de chez vous</td>\n",
       "    </tr>\n",
       "    <tr>\n",
       "      <th>...</th>\n",
       "      <td>...</td>\n",
       "      <td>...</td>\n",
       "      <td>...</td>\n",
       "    </tr>\n",
       "    <tr>\n",
       "      <th>3595</th>\n",
       "      <td>80</td>\n",
       "      <td>https://www.kijiji.ca/v-appartement-condo/vill...</td>\n",
       "      <td>&lt; 4 km</td>\n",
       "    </tr>\n",
       "    <tr>\n",
       "      <th>3596</th>\n",
       "      <td>80</td>\n",
       "      <td>https://www.kijiji.ca/v-appartement-condo/vill...</td>\n",
       "      <td>Près de chez vous</td>\n",
       "    </tr>\n",
       "    <tr>\n",
       "      <th>3597</th>\n",
       "      <td>80</td>\n",
       "      <td>https://www.kijiji.ca/v-appartement-condo/vill...</td>\n",
       "      <td>&lt; 8 km</td>\n",
       "    </tr>\n",
       "    <tr>\n",
       "      <th>3598</th>\n",
       "      <td>80</td>\n",
       "      <td>https://www.kijiji.ca/v-appartement-condo/vill...</td>\n",
       "      <td>&lt; 7 km</td>\n",
       "    </tr>\n",
       "    <tr>\n",
       "      <th>3599</th>\n",
       "      <td>80</td>\n",
       "      <td>https://www.kijiji.ca/v-appartement-condo/long...</td>\n",
       "      <td>&lt; 7 km</td>\n",
       "    </tr>\n",
       "  </tbody>\n",
       "</table>\n",
       "<p>3600 rows × 3 columns</p>\n",
       "</div>"
      ],
      "text/plain": [
       "      page                                               link  \\\n",
       "0        1  https://www.kijiji.ca/v-appartement-condo/vill...   \n",
       "1        1  https://www.kijiji.ca/v-appartement-condo/vill...   \n",
       "2        1  https://www.kijiji.ca/v-appartement-condo/vill...   \n",
       "3        1  https://www.kijiji.ca/v-appartement-condo/vill...   \n",
       "4        1  https://www.kijiji.ca/v-appartement-condo/vill...   \n",
       "...    ...                                                ...   \n",
       "3595    80  https://www.kijiji.ca/v-appartement-condo/vill...   \n",
       "3596    80  https://www.kijiji.ca/v-appartement-condo/vill...   \n",
       "3597    80  https://www.kijiji.ca/v-appartement-condo/vill...   \n",
       "3598    80  https://www.kijiji.ca/v-appartement-condo/vill...   \n",
       "3599    80  https://www.kijiji.ca/v-appartement-condo/long...   \n",
       "\n",
       "               distance  \n",
       "0                < 9 km  \n",
       "1     Près de chez vous  \n",
       "2                < 2 km  \n",
       "3                < 3 km  \n",
       "4     Près de chez vous  \n",
       "...                 ...  \n",
       "3595             < 4 km  \n",
       "3596  Près de chez vous  \n",
       "3597             < 8 km  \n",
       "3598             < 7 km  \n",
       "3599             < 7 km  \n",
       "\n",
       "[3600 rows x 3 columns]"
      ]
     },
     "execution_count": 25,
     "metadata": {},
     "output_type": "execute_result"
    }
   ],
   "source": [
    "distances = pd.read_csv(\"links.csv\", index_col=0)\n",
    "distances[\"link\"] = distances.apply(lambda row: \"https://www.kijiji.ca\"+row[\"link\"], axis=1)\n",
    "distances.head()"
   ]
  },
  {
   "cell_type": "code",
   "execution_count": 27,
   "metadata": {},
   "outputs": [
    {
     "data": {
      "text/html": [
       "<div>\n",
       "<style scoped>\n",
       "    .dataframe tbody tr th:only-of-type {\n",
       "        vertical-align: middle;\n",
       "    }\n",
       "\n",
       "    .dataframe tbody tr th {\n",
       "        vertical-align: top;\n",
       "    }\n",
       "\n",
       "    .dataframe thead th {\n",
       "        text-align: right;\n",
       "    }\n",
       "</style>\n",
       "<table border=\"1\" class=\"dataframe\">\n",
       "  <thead>\n",
       "    <tr style=\"text-align: right;\">\n",
       "      <th></th>\n",
       "      <th>link</th>\n",
       "      <th>price</th>\n",
       "      <th>title</th>\n",
       "      <th>address</th>\n",
       "      <th>type</th>\n",
       "      <th>rooms</th>\n",
       "      <th>bathroom</th>\n",
       "      <th>electricity</th>\n",
       "      <th>parking_spots</th>\n",
       "      <th>utilities</th>\n",
       "      <th>furnished</th>\n",
       "      <th>size</th>\n",
       "      <th>air_conditioned</th>\n",
       "      <th>allow_pets</th>\n",
       "      <th>page</th>\n",
       "      <th>distance</th>\n",
       "    </tr>\n",
       "  </thead>\n",
       "  <tbody>\n",
       "    <tr>\n",
       "      <th>0</th>\n",
       "      <td>https://www.kijiji.ca/v-appartement-condo/vill...</td>\n",
       "      <td>995.0</td>\n",
       "      <td>BEAU 31/2 RENOVÉ PRÉS DE MÉTRO CADILLAC</td>\n",
       "      <td>3280 DE LA PÉPINIÈRE, MONTREAL, QC, H1N 3N4</td>\n",
       "      <td>Appartement</td>\n",
       "      <td>3</td>\n",
       "      <td>1.0</td>\n",
       "      <td>True</td>\n",
       "      <td>0</td>\n",
       "      <td>, Buanderie (dans l'immeuble), , Réfrigérateur...</td>\n",
       "      <td>False</td>\n",
       "      <td>NaN</td>\n",
       "      <td>False</td>\n",
       "      <td>Non</td>\n",
       "      <td>1</td>\n",
       "      <td>&lt; 9 km</td>\n",
       "    </tr>\n",
       "    <tr>\n",
       "      <th>1</th>\n",
       "      <td>https://www.kijiji.ca/v-appartement-condo/vill...</td>\n",
       "      <td>995.0</td>\n",
       "      <td>BEAU 31/2 RENOVÉ PRÉS DE MÉTRO CADILLAC</td>\n",
       "      <td>3280 DE LA PÉPINIÈRE, MONTREAL, QC, H1N 3N4</td>\n",
       "      <td>Appartement</td>\n",
       "      <td>3</td>\n",
       "      <td>1.0</td>\n",
       "      <td>True</td>\n",
       "      <td>0</td>\n",
       "      <td>, Buanderie (dans l'immeuble), , Réfrigérateur...</td>\n",
       "      <td>False</td>\n",
       "      <td>NaN</td>\n",
       "      <td>False</td>\n",
       "      <td>Non</td>\n",
       "      <td>41</td>\n",
       "      <td>&lt; 9 km</td>\n",
       "    </tr>\n",
       "    <tr>\n",
       "      <th>2</th>\n",
       "      <td>https://www.kijiji.ca/v-appartement-condo/vill...</td>\n",
       "      <td>995.0</td>\n",
       "      <td>BEAU 31/2 RENOVÉ PRÉS DE MÉTRO CADILLAC</td>\n",
       "      <td>3280 DE LA PÉPINIÈRE, MONTREAL, QC, H1N 3N4</td>\n",
       "      <td>Appartement</td>\n",
       "      <td>3</td>\n",
       "      <td>1.0</td>\n",
       "      <td>True</td>\n",
       "      <td>0</td>\n",
       "      <td>, Buanderie (dans l'immeuble), , Réfrigérateur...</td>\n",
       "      <td>False</td>\n",
       "      <td>NaN</td>\n",
       "      <td>False</td>\n",
       "      <td>Non</td>\n",
       "      <td>46</td>\n",
       "      <td>&lt; 9 km</td>\n",
       "    </tr>\n",
       "    <tr>\n",
       "      <th>3</th>\n",
       "      <td>https://www.kijiji.ca/v-appartement-condo/vill...</td>\n",
       "      <td>1400.0</td>\n",
       "      <td>{3 1/2 - Downtown Griffintown} Prime Location ...</td>\n",
       "      <td>688 Rue Notre-Dame Ouest, Montreal, QC, H3W 1J4</td>\n",
       "      <td>Condo</td>\n",
       "      <td>3</td>\n",
       "      <td>1.0</td>\n",
       "      <td>False</td>\n",
       "      <td>0</td>\n",
       "      <td>Buanderie (dans l'appartement), , Lave-vaissel...</td>\n",
       "      <td>False</td>\n",
       "      <td>NaN</td>\n",
       "      <td>True</td>\n",
       "      <td>Non</td>\n",
       "      <td>1</td>\n",
       "      <td>Près de chez vous</td>\n",
       "    </tr>\n",
       "    <tr>\n",
       "      <th>4</th>\n",
       "      <td>https://www.kijiji.ca/v-appartement-condo/vill...</td>\n",
       "      <td>1400.0</td>\n",
       "      <td>{3 1/2 - Downtown Griffintown} Prime Location ...</td>\n",
       "      <td>688 Rue Notre-Dame Ouest, Montreal, QC, H3W 1J4</td>\n",
       "      <td>Condo</td>\n",
       "      <td>3</td>\n",
       "      <td>1.0</td>\n",
       "      <td>False</td>\n",
       "      <td>0</td>\n",
       "      <td>Buanderie (dans l'appartement), , Lave-vaissel...</td>\n",
       "      <td>False</td>\n",
       "      <td>NaN</td>\n",
       "      <td>True</td>\n",
       "      <td>Non</td>\n",
       "      <td>4</td>\n",
       "      <td>Près de chez vous</td>\n",
       "    </tr>\n",
       "  </tbody>\n",
       "</table>\n",
       "</div>"
      ],
      "text/plain": [
       "                                                link   price  \\\n",
       "0  https://www.kijiji.ca/v-appartement-condo/vill...   995.0   \n",
       "1  https://www.kijiji.ca/v-appartement-condo/vill...   995.0   \n",
       "2  https://www.kijiji.ca/v-appartement-condo/vill...   995.0   \n",
       "3  https://www.kijiji.ca/v-appartement-condo/vill...  1400.0   \n",
       "4  https://www.kijiji.ca/v-appartement-condo/vill...  1400.0   \n",
       "\n",
       "                                               title  \\\n",
       "0            BEAU 31/2 RENOVÉ PRÉS DE MÉTRO CADILLAC   \n",
       "1            BEAU 31/2 RENOVÉ PRÉS DE MÉTRO CADILLAC   \n",
       "2            BEAU 31/2 RENOVÉ PRÉS DE MÉTRO CADILLAC   \n",
       "3  {3 1/2 - Downtown Griffintown} Prime Location ...   \n",
       "4  {3 1/2 - Downtown Griffintown} Prime Location ...   \n",
       "\n",
       "                                           address         type rooms  \\\n",
       "0      3280 DE LA PÉPINIÈRE, MONTREAL, QC, H1N 3N4  Appartement     3   \n",
       "1      3280 DE LA PÉPINIÈRE, MONTREAL, QC, H1N 3N4  Appartement     3   \n",
       "2      3280 DE LA PÉPINIÈRE, MONTREAL, QC, H1N 3N4  Appartement     3   \n",
       "3  688 Rue Notre-Dame Ouest, Montreal, QC, H3W 1J4        Condo     3   \n",
       "4  688 Rue Notre-Dame Ouest, Montreal, QC, H3W 1J4        Condo     3   \n",
       "\n",
       "   bathroom  electricity parking_spots  \\\n",
       "0       1.0         True             0   \n",
       "1       1.0         True             0   \n",
       "2       1.0         True             0   \n",
       "3       1.0        False             0   \n",
       "4       1.0        False             0   \n",
       "\n",
       "                                           utilities  furnished  size  \\\n",
       "0  , Buanderie (dans l'immeuble), , Réfrigérateur...      False   NaN   \n",
       "1  , Buanderie (dans l'immeuble), , Réfrigérateur...      False   NaN   \n",
       "2  , Buanderie (dans l'immeuble), , Réfrigérateur...      False   NaN   \n",
       "3  Buanderie (dans l'appartement), , Lave-vaissel...      False   NaN   \n",
       "4  Buanderie (dans l'appartement), , Lave-vaissel...      False   NaN   \n",
       "\n",
       "   air_conditioned allow_pets  page           distance  \n",
       "0            False        Non     1             < 9 km  \n",
       "1            False        Non    41             < 9 km  \n",
       "2            False        Non    46             < 9 km  \n",
       "3             True        Non     1  Près de chez vous  \n",
       "4             True        Non     4  Près de chez vous  "
      ]
     },
     "execution_count": 27,
     "metadata": {},
     "output_type": "execute_result"
    }
   ],
   "source": [
    "raw_ads = raw_ads.merge(distances, left_on=\"link\", right_on=\"link\")\n",
    "raw_ads.head()"
   ]
  },
  {
   "cell_type": "code",
   "execution_count": 2,
   "metadata": {
    "pycharm": {
     "is_executing": true
    }
   },
   "outputs": [
    {
     "data": {
      "text/plain": [
       "(3600, 14)"
      ]
     },
     "execution_count": 2,
     "metadata": {},
     "output_type": "execute_result"
    }
   ],
   "source": [
    "raw_ads.shape"
   ]
  },
  {
   "cell_type": "code",
   "execution_count": 3,
   "metadata": {
    "pycharm": {
     "is_executing": true
    }
   },
   "outputs": [
    {
     "data": {
      "text/plain": [
       "241"
      ]
     },
     "execution_count": 3,
     "metadata": {},
     "output_type": "execute_result"
    }
   ],
   "source": [
    "len(raw_ads[\"link\"].unique())"
   ]
  },
  {
   "cell_type": "code",
   "execution_count": 4,
   "metadata": {
    "pycharm": {
     "is_executing": true
    }
   },
   "outputs": [
    {
     "data": {
      "text/plain": [
       "201"
      ]
     },
     "execution_count": 4,
     "metadata": {},
     "output_type": "execute_result"
    }
   ],
   "source": [
    "len(raw_ads[\"address\"].unique())"
   ]
  },
  {
   "cell_type": "markdown",
   "metadata": {},
   "source": [
    "Many duplicates, looks like Kijiji served us many times the same ads when we scrapped the listings. We will remove the duplicates according to their link as some appartments building probably advertise their appartments of different size on different ads."
   ]
  },
  {
   "cell_type": "code",
   "execution_count": 5,
   "metadata": {
    "pycharm": {
     "is_executing": true
    }
   },
   "outputs": [
    {
     "data": {
      "text/plain": [
       "(241, 14)"
      ]
     },
     "execution_count": 5,
     "metadata": {},
     "output_type": "execute_result"
    }
   ],
   "source": [
    "raw_ads_no_duplicates = raw_ads.copy().drop_duplicates(subset=[\"link\"])\n",
    "raw_ads_no_duplicates.shape"
   ]
  },
  {
   "cell_type": "code",
   "execution_count": 6,
   "metadata": {
    "pycharm": {
     "is_executing": true
    }
   },
   "outputs": [
    {
     "name": "stdout",
     "output_type": "stream",
     "text": [
      "<class 'pandas.core.frame.DataFrame'>\n",
      "Int64Index: 241 entries, 0 to 3559\n",
      "Data columns (total 14 columns):\n",
      " #   Column           Non-Null Count  Dtype  \n",
      "---  ------           --------------  -----  \n",
      " 0   link             241 non-null    object \n",
      " 1   price            231 non-null    float64\n",
      " 2   title            237 non-null    object \n",
      " 3   address          237 non-null    object \n",
      " 4   type             237 non-null    object \n",
      " 5   rooms            237 non-null    object \n",
      " 6   bathroom         237 non-null    float64\n",
      " 7   electricity      151 non-null    object \n",
      " 8   parking_spots    241 non-null    object \n",
      " 9   utilities        211 non-null    object \n",
      " 10  furnished        241 non-null    bool   \n",
      " 11  size             237 non-null    object \n",
      " 12  air_conditioned  241 non-null    bool   \n",
      " 13  allow_pets       237 non-null    object \n",
      "dtypes: bool(2), float64(2), object(10)\n",
      "memory usage: 24.9+ KB\n"
     ]
    }
   ],
   "source": [
    "raw_ads_no_duplicates.info()"
   ]
  },
  {
   "cell_type": "code",
   "execution_count": 7,
   "metadata": {
    "pycharm": {
     "is_executing": true
    }
   },
   "outputs": [
    {
     "data": {
      "text/plain": [
       "Appartement       185\n",
       "Condo              40\n",
       "Duplex/Triplex     11\n",
       "Sous-sol            1\n",
       "Name: type, dtype: int64"
      ]
     },
     "execution_count": 7,
     "metadata": {},
     "output_type": "execute_result"
    }
   ],
   "source": [
    "raw_ads_no_duplicates[\"type\"].value_counts()"
   ]
  },
  {
   "cell_type": "code",
   "execution_count": 8,
   "metadata": {
    "pycharm": {
     "is_executing": true
    }
   },
   "outputs": [
    {
     "data": {
      "text/plain": [
       "4 1/2                    91\n",
       "3 1/2                    72\n",
       "1 ½ ou 2 ½               24\n",
       "5 1/2                    21\n",
       "4 1/2 et coin détente     8\n",
       "5 1/2 et coin détente     7\n",
       "6 1/2                     6\n",
       "3 1/2 et coin détente     6\n",
       "7 1/2 +                   1\n",
       "6 1/2 et coin détente     1\n",
       "Name: rooms, dtype: int64"
      ]
     },
     "execution_count": 8,
     "metadata": {},
     "output_type": "execute_result"
    }
   ],
   "source": [
    "raw_ads_no_duplicates[\"rooms\"].value_counts()"
   ]
  },
  {
   "cell_type": "code",
   "execution_count": 9,
   "metadata": {
    "pycharm": {
     "is_executing": true
    }
   },
   "outputs": [],
   "source": [
    "def sanitize_rooms_field(value):\n",
    "    if type(value)== str:\n",
    "        value = value[0]\n",
    "    return value\n",
    "\n",
    "raw_ads_no_duplicates[\"rooms\"] = raw_ads_no_duplicates.apply(lambda row: sanitize_rooms_field(row[\"rooms\"]), axis=1)"
   ]
  },
  {
   "cell_type": "code",
   "execution_count": 10,
   "metadata": {
    "pycharm": {
     "is_executing": true
    }
   },
   "outputs": [
    {
     "data": {
      "text/plain": [
       "4    99\n",
       "3    78\n",
       "5    28\n",
       "1    24\n",
       "6     7\n",
       "7     1\n",
       "Name: rooms, dtype: int64"
      ]
     },
     "execution_count": 10,
     "metadata": {},
     "output_type": "execute_result"
    }
   ],
   "source": [
    "raw_ads_no_duplicates[\"rooms\"].value_counts()"
   ]
  },
  {
   "cell_type": "code",
   "execution_count": 11,
   "metadata": {
    "pycharm": {
     "is_executing": true
    }
   },
   "outputs": [
    {
     "data": {
      "text/plain": [
       "4"
      ]
     },
     "execution_count": 11,
     "metadata": {},
     "output_type": "execute_result"
    }
   ],
   "source": [
    "raw_ads_no_duplicates[\"rooms\"].isna().sum()"
   ]
  },
  {
   "cell_type": "code",
   "execution_count": 12,
   "metadata": {
    "pycharm": {
     "is_executing": true
    }
   },
   "outputs": [],
   "source": [
    "raw_ads_no_duplicates[\"size\"] = pd.to_numeric(raw_ads_no_duplicates[\"size\"], errors='coerce')"
   ]
  },
  {
   "cell_type": "code",
   "execution_count": 13,
   "metadata": {
    "pycharm": {
     "is_executing": true
    }
   },
   "outputs": [
    {
     "data": {
      "text/plain": [
       "link                 0\n",
       "price               10\n",
       "title                4\n",
       "address              4\n",
       "type                 4\n",
       "rooms                4\n",
       "bathroom             4\n",
       "electricity         90\n",
       "parking_spots        0\n",
       "utilities           30\n",
       "furnished            0\n",
       "size               110\n",
       "air_conditioned      0\n",
       "allow_pets           4\n",
       "dtype: int64"
      ]
     },
     "execution_count": 13,
     "metadata": {},
     "output_type": "execute_result"
    }
   ],
   "source": [
    "raw_ads_no_duplicates.isna().sum()"
   ]
  },
  {
   "cell_type": "code",
   "execution_count": 14,
   "metadata": {
    "pycharm": {
     "is_executing": true
    }
   },
   "outputs": [
    {
     "data": {
      "text/html": [
       "<div>\n",
       "<style scoped>\n",
       "    .dataframe tbody tr th:only-of-type {\n",
       "        vertical-align: middle;\n",
       "    }\n",
       "\n",
       "    .dataframe tbody tr th {\n",
       "        vertical-align: top;\n",
       "    }\n",
       "\n",
       "    .dataframe thead th {\n",
       "        text-align: right;\n",
       "    }\n",
       "</style>\n",
       "<table border=\"1\" class=\"dataframe\">\n",
       "  <thead>\n",
       "    <tr style=\"text-align: right;\">\n",
       "      <th></th>\n",
       "      <th>link</th>\n",
       "      <th>price</th>\n",
       "      <th>title</th>\n",
       "      <th>address</th>\n",
       "      <th>type</th>\n",
       "      <th>rooms</th>\n",
       "      <th>bathroom</th>\n",
       "      <th>electricity</th>\n",
       "      <th>parking_spots</th>\n",
       "      <th>utilities</th>\n",
       "      <th>furnished</th>\n",
       "      <th>size</th>\n",
       "      <th>air_conditioned</th>\n",
       "      <th>allow_pets</th>\n",
       "    </tr>\n",
       "  </thead>\n",
       "  <tbody>\n",
       "    <tr>\n",
       "      <th>30</th>\n",
       "      <td>https://www.kijiji.ca/v-appartement-condo/vill...</td>\n",
       "      <td>NaN</td>\n",
       "      <td>NaN</td>\n",
       "      <td>NaN</td>\n",
       "      <td>NaN</td>\n",
       "      <td>NaN</td>\n",
       "      <td>NaN</td>\n",
       "      <td>NaN</td>\n",
       "      <td>0</td>\n",
       "      <td>NaN</td>\n",
       "      <td>False</td>\n",
       "      <td>NaN</td>\n",
       "      <td>False</td>\n",
       "      <td>NaN</td>\n",
       "    </tr>\n",
       "    <tr>\n",
       "      <th>544</th>\n",
       "      <td>https://www.kijiji.ca/v-appartement-condo/vill...</td>\n",
       "      <td>NaN</td>\n",
       "      <td>NaN</td>\n",
       "      <td>NaN</td>\n",
       "      <td>NaN</td>\n",
       "      <td>NaN</td>\n",
       "      <td>NaN</td>\n",
       "      <td>NaN</td>\n",
       "      <td>0</td>\n",
       "      <td>NaN</td>\n",
       "      <td>False</td>\n",
       "      <td>NaN</td>\n",
       "      <td>False</td>\n",
       "      <td>NaN</td>\n",
       "    </tr>\n",
       "    <tr>\n",
       "      <th>945</th>\n",
       "      <td>https://www.kijiji.ca/v-appartement-condo/vill...</td>\n",
       "      <td>NaN</td>\n",
       "      <td>NaN</td>\n",
       "      <td>NaN</td>\n",
       "      <td>NaN</td>\n",
       "      <td>NaN</td>\n",
       "      <td>NaN</td>\n",
       "      <td>NaN</td>\n",
       "      <td>0</td>\n",
       "      <td>NaN</td>\n",
       "      <td>False</td>\n",
       "      <td>NaN</td>\n",
       "      <td>False</td>\n",
       "      <td>NaN</td>\n",
       "    </tr>\n",
       "    <tr>\n",
       "      <th>1218</th>\n",
       "      <td>https://www.kijiji.ca/v-appartement-condo/vill...</td>\n",
       "      <td>NaN</td>\n",
       "      <td>NaN</td>\n",
       "      <td>NaN</td>\n",
       "      <td>NaN</td>\n",
       "      <td>NaN</td>\n",
       "      <td>NaN</td>\n",
       "      <td>NaN</td>\n",
       "      <td>0</td>\n",
       "      <td>NaN</td>\n",
       "      <td>False</td>\n",
       "      <td>NaN</td>\n",
       "      <td>False</td>\n",
       "      <td>NaN</td>\n",
       "    </tr>\n",
       "  </tbody>\n",
       "</table>\n",
       "</div>"
      ],
      "text/plain": [
       "                                                   link  price title address  \\\n",
       "30    https://www.kijiji.ca/v-appartement-condo/vill...    NaN   NaN     NaN   \n",
       "544   https://www.kijiji.ca/v-appartement-condo/vill...    NaN   NaN     NaN   \n",
       "945   https://www.kijiji.ca/v-appartement-condo/vill...    NaN   NaN     NaN   \n",
       "1218  https://www.kijiji.ca/v-appartement-condo/vill...    NaN   NaN     NaN   \n",
       "\n",
       "     type rooms  bathroom electricity parking_spots utilities  furnished  \\\n",
       "30    NaN   NaN       NaN         NaN             0       NaN      False   \n",
       "544   NaN   NaN       NaN         NaN             0       NaN      False   \n",
       "945   NaN   NaN       NaN         NaN             0       NaN      False   \n",
       "1218  NaN   NaN       NaN         NaN             0       NaN      False   \n",
       "\n",
       "      size  air_conditioned allow_pets  \n",
       "30     NaN            False        NaN  \n",
       "544    NaN            False        NaN  \n",
       "945    NaN            False        NaN  \n",
       "1218   NaN            False        NaN  "
      ]
     },
     "execution_count": 14,
     "metadata": {},
     "output_type": "execute_result"
    }
   ],
   "source": [
    "raw_ads_no_duplicates[raw_ads_no_duplicates[\"title\"].isna()]"
   ]
  },
  {
   "cell_type": "markdown",
   "metadata": {},
   "source": [
    "The cells are all just empty, so we will simply drop them."
   ]
  },
  {
   "cell_type": "code",
   "execution_count": 15,
   "metadata": {
    "pycharm": {
     "is_executing": true
    }
   },
   "outputs": [
    {
     "data": {
      "text/plain": [
       "(0, 14)"
      ]
     },
     "execution_count": 15,
     "metadata": {},
     "output_type": "execute_result"
    }
   ],
   "source": [
    "raw_ads_no_duplicates.dropna(subset=[\"title\"], inplace=True)\n",
    "raw_ads_no_duplicates[raw_ads_no_duplicates[\"title\"].isna()].shape"
   ]
  },
  {
   "cell_type": "code",
   "execution_count": 16,
   "metadata": {
    "pycharm": {
     "is_executing": true
    },
    "scrolled": false
   },
   "outputs": [
    {
     "data": {
      "text/html": [
       "<div>\n",
       "<style scoped>\n",
       "    .dataframe tbody tr th:only-of-type {\n",
       "        vertical-align: middle;\n",
       "    }\n",
       "\n",
       "    .dataframe tbody tr th {\n",
       "        vertical-align: top;\n",
       "    }\n",
       "\n",
       "    .dataframe thead th {\n",
       "        text-align: right;\n",
       "    }\n",
       "</style>\n",
       "<table border=\"1\" class=\"dataframe\">\n",
       "  <thead>\n",
       "    <tr style=\"text-align: right;\">\n",
       "      <th></th>\n",
       "      <th>link</th>\n",
       "      <th>price</th>\n",
       "      <th>title</th>\n",
       "      <th>address</th>\n",
       "      <th>type</th>\n",
       "      <th>rooms</th>\n",
       "      <th>bathroom</th>\n",
       "      <th>electricity</th>\n",
       "      <th>parking_spots</th>\n",
       "      <th>utilities</th>\n",
       "      <th>furnished</th>\n",
       "      <th>size</th>\n",
       "      <th>air_conditioned</th>\n",
       "      <th>allow_pets</th>\n",
       "    </tr>\n",
       "  </thead>\n",
       "  <tbody>\n",
       "    <tr>\n",
       "      <th>16</th>\n",
       "      <td>https://www.kijiji.ca/v-appartement-condo/lava...</td>\n",
       "      <td>NaN</td>\n",
       "      <td>3 1/2 for rent in laval</td>\n",
       "      <td>, h7n5a4, laval, QC</td>\n",
       "      <td>Appartement</td>\n",
       "      <td>3</td>\n",
       "      <td>1.0</td>\n",
       "      <td>False</td>\n",
       "      <td>0</td>\n",
       "      <td>, Buanderie (dans l'immeuble), , Réfrigérateur...</td>\n",
       "      <td>False</td>\n",
       "      <td>1.0</td>\n",
       "      <td>False</td>\n",
       "      <td>Non</td>\n",
       "    </tr>\n",
       "    <tr>\n",
       "      <th>38</th>\n",
       "      <td>https://www.kijiji.ca/v-appartement-condo/vill...</td>\n",
       "      <td>NaN</td>\n",
       "      <td>New TDC3 2 bed 2 bath 1000+ sqft. corner condo</td>\n",
       "      <td>1288 Rue Saint-Antoine O, Montréal, QC H3C 1C2...</td>\n",
       "      <td>Condo</td>\n",
       "      <td>4</td>\n",
       "      <td>2.0</td>\n",
       "      <td>False</td>\n",
       "      <td>1</td>\n",
       "      <td>Buanderie (dans l'appartement), , Lave-vaissel...</td>\n",
       "      <td>False</td>\n",
       "      <td>NaN</td>\n",
       "      <td>True</td>\n",
       "      <td>Limité</td>\n",
       "    </tr>\n",
       "    <tr>\n",
       "      <th>94</th>\n",
       "      <td>https://www.kijiji.ca/v-appartement-condo/vill...</td>\n",
       "      <td>NaN</td>\n",
       "      <td>3½ - APPARTEMENTS-HÔTEL - MEUBLÉ &amp; TOUT INCLUS</td>\n",
       "      <td>985 Boul St-Laurent, Montréal, QC H2Z 1J4, Canada</td>\n",
       "      <td>Appartement</td>\n",
       "      <td>3</td>\n",
       "      <td>1.0</td>\n",
       "      <td>True</td>\n",
       "      <td>0</td>\n",
       "      <td>, Buanderie (dans l'immeuble), Lave-vaisselle,...</td>\n",
       "      <td>True</td>\n",
       "      <td>570.0</td>\n",
       "      <td>True</td>\n",
       "      <td>Oui</td>\n",
       "    </tr>\n",
       "    <tr>\n",
       "      <th>541</th>\n",
       "      <td>https://www.kijiji.ca/v-appartement-condo/long...</td>\n",
       "      <td>NaN</td>\n",
       "      <td>LOGEMENTS  A   LOUER   A    LONGUEUIL</td>\n",
       "      <td>863 Rue de Gentilly E, Longueuil, QC J4J 4L2, ...</td>\n",
       "      <td>Appartement</td>\n",
       "      <td>1</td>\n",
       "      <td>1.0</td>\n",
       "      <td>True</td>\n",
       "      <td>1</td>\n",
       "      <td>Buanderie (dans l'appartement), Buanderie (dan...</td>\n",
       "      <td>False</td>\n",
       "      <td>700.0</td>\n",
       "      <td>False</td>\n",
       "      <td>Oui</td>\n",
       "    </tr>\n",
       "    <tr>\n",
       "      <th>1080</th>\n",
       "      <td>https://www.kijiji.ca/v-appartement-condo/vill...</td>\n",
       "      <td>NaN</td>\n",
       "      <td>1635 dudemaine appartement à louer 4 1/2 Ahunt...</td>\n",
       "      <td>1615 dudemaine, montréal, QC, H3M 1R2</td>\n",
       "      <td>Appartement</td>\n",
       "      <td>4</td>\n",
       "      <td>1.0</td>\n",
       "      <td>False</td>\n",
       "      <td>0</td>\n",
       "      <td>, Buanderie (dans l'immeuble), ,</td>\n",
       "      <td>False</td>\n",
       "      <td>NaN</td>\n",
       "      <td>False</td>\n",
       "      <td>Non</td>\n",
       "    </tr>\n",
       "    <tr>\n",
       "      <th>1891</th>\n",
       "      <td>https://www.kijiji.ca/v-appartement-condo/vill...</td>\n",
       "      <td>NaN</td>\n",
       "      <td>3½ - APPARTEMENTS-HÔTEL - CENTRE-VILLE DE MONT...</td>\n",
       "      <td>985 Boul St-Laurent, Montréal, QC H2Z 1J4, Canada</td>\n",
       "      <td>Appartement</td>\n",
       "      <td>3</td>\n",
       "      <td>2.0</td>\n",
       "      <td>True</td>\n",
       "      <td>0</td>\n",
       "      <td>, Buanderie (dans l'immeuble), Lave-vaisselle,...</td>\n",
       "      <td>True</td>\n",
       "      <td>590.0</td>\n",
       "      <td>True</td>\n",
       "      <td>Oui</td>\n",
       "    </tr>\n",
       "  </tbody>\n",
       "</table>\n",
       "</div>"
      ],
      "text/plain": [
       "                                                   link  price  \\\n",
       "16    https://www.kijiji.ca/v-appartement-condo/lava...    NaN   \n",
       "38    https://www.kijiji.ca/v-appartement-condo/vill...    NaN   \n",
       "94    https://www.kijiji.ca/v-appartement-condo/vill...    NaN   \n",
       "541   https://www.kijiji.ca/v-appartement-condo/long...    NaN   \n",
       "1080  https://www.kijiji.ca/v-appartement-condo/vill...    NaN   \n",
       "1891  https://www.kijiji.ca/v-appartement-condo/vill...    NaN   \n",
       "\n",
       "                                                  title  \\\n",
       "16                              3 1/2 for rent in laval   \n",
       "38       New TDC3 2 bed 2 bath 1000+ sqft. corner condo   \n",
       "94       3½ - APPARTEMENTS-HÔTEL - MEUBLÉ & TOUT INCLUS   \n",
       "541               LOGEMENTS  A   LOUER   A    LONGUEUIL   \n",
       "1080  1635 dudemaine appartement à louer 4 1/2 Ahunt...   \n",
       "1891  3½ - APPARTEMENTS-HÔTEL - CENTRE-VILLE DE MONT...   \n",
       "\n",
       "                                                address         type rooms  \\\n",
       "16                                  , h7n5a4, laval, QC  Appartement     3   \n",
       "38    1288 Rue Saint-Antoine O, Montréal, QC H3C 1C2...        Condo     4   \n",
       "94    985 Boul St-Laurent, Montréal, QC H2Z 1J4, Canada  Appartement     3   \n",
       "541   863 Rue de Gentilly E, Longueuil, QC J4J 4L2, ...  Appartement     1   \n",
       "1080              1615 dudemaine, montréal, QC, H3M 1R2  Appartement     4   \n",
       "1891  985 Boul St-Laurent, Montréal, QC H2Z 1J4, Canada  Appartement     3   \n",
       "\n",
       "      bathroom electricity parking_spots  \\\n",
       "16         1.0       False             0   \n",
       "38         2.0       False             1   \n",
       "94         1.0        True             0   \n",
       "541        1.0        True             1   \n",
       "1080       1.0       False             0   \n",
       "1891       2.0        True             0   \n",
       "\n",
       "                                              utilities  furnished   size  \\\n",
       "16    , Buanderie (dans l'immeuble), , Réfrigérateur...      False    1.0   \n",
       "38    Buanderie (dans l'appartement), , Lave-vaissel...      False    NaN   \n",
       "94    , Buanderie (dans l'immeuble), Lave-vaisselle,...       True  570.0   \n",
       "541   Buanderie (dans l'appartement), Buanderie (dan...      False  700.0   \n",
       "1080                  , Buanderie (dans l'immeuble), ,       False    NaN   \n",
       "1891  , Buanderie (dans l'immeuble), Lave-vaisselle,...       True  590.0   \n",
       "\n",
       "      air_conditioned allow_pets  \n",
       "16              False        Non  \n",
       "38               True     Limité  \n",
       "94               True        Oui  \n",
       "541             False        Oui  \n",
       "1080            False        Non  \n",
       "1891             True        Oui  "
      ]
     },
     "execution_count": 16,
     "metadata": {},
     "output_type": "execute_result"
    }
   ],
   "source": [
    "raw_ads_no_duplicates[raw_ads_no_duplicates[\"price\"].isna()]"
   ]
  },
  {
   "cell_type": "markdown",
   "metadata": {},
   "source": [
    "No missing values other than the price. We will fill them with the mean price of the other appartments of the same number of rooms"
   ]
  },
  {
   "cell_type": "code",
   "execution_count": 17,
   "metadata": {
    "pycharm": {
     "is_executing": true
    }
   },
   "outputs": [],
   "source": [
    "mean_price_per_rooms = raw_ads_no_duplicates.groupby(\"rooms\").mean()[\"price\"]\n",
    "na = raw_ads_no_duplicates[\"price\"].isna()\n",
    "for index in na[na].index:\n",
    "    raw_ads_no_duplicates.loc[index, \"price\"] = mean_price_per_rooms[raw_ads_no_duplicates.loc[index, \"rooms\"]]"
   ]
  },
  {
   "cell_type": "markdown",
   "metadata": {},
   "source": [
    "Filling NaN with the mean of appartments of their size, then verifying there are no more NaN."
   ]
  },
  {
   "cell_type": "code",
   "execution_count": 18,
   "metadata": {
    "pycharm": {
     "is_executing": true
    }
   },
   "outputs": [
    {
     "data": {
      "text/plain": [
       "0"
      ]
     },
     "execution_count": 18,
     "metadata": {},
     "output_type": "execute_result"
    }
   ],
   "source": [
    "raw_ads_no_duplicates[\"price\"].isna().sum()"
   ]
  },
  {
   "cell_type": "code",
   "execution_count": 23,
   "metadata": {
    "pycharm": {
     "is_executing": true
    }
   },
   "outputs": [],
   "source": [
    "raw_ads_no_duplicates.fillna(value={\"electricity\": False, \"allow_pets\": False, \"utilities\": \"\"},inplace=True)"
   ]
  },
  {
   "cell_type": "code",
   "execution_count": 24,
   "metadata": {
    "pycharm": {
     "is_executing": true
    }
   },
   "outputs": [
    {
     "data": {
      "text/plain": [
       "link                 0\n",
       "price                0\n",
       "title                0\n",
       "address              0\n",
       "type                 0\n",
       "rooms                0\n",
       "bathroom             0\n",
       "electricity          0\n",
       "parking_spots        0\n",
       "utilities            0\n",
       "furnished            0\n",
       "size               106\n",
       "air_conditioned      0\n",
       "allow_pets           0\n",
       "dtype: int64"
      ]
     },
     "execution_count": 24,
     "metadata": {},
     "output_type": "execute_result"
    }
   ],
   "source": [
    "raw_ads_no_duplicates.isna().sum()"
   ]
  }
 ],
 "metadata": {
  "kernelspec": {
   "display_name": "Python 3",
   "language": "python",
   "name": "python3"
  },
  "language_info": {
   "codemirror_mode": {
    "name": "ipython",
    "version": 3
   },
   "file_extension": ".py",
   "mimetype": "text/x-python",
   "name": "python",
   "nbconvert_exporter": "python",
   "pygments_lexer": "ipython3",
   "version": "3.8.6"
  }
 },
 "nbformat": 4,
 "nbformat_minor": 1
}
