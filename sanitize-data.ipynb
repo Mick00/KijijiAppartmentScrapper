{
 "cells": [
  {
   "cell_type": "markdown",
   "metadata": {},
   "source": [
    "# Data loading and treatment"
   ]
  },
  {
   "cell_type": "code",
   "execution_count": 1,
   "metadata": {},
   "outputs": [
    {
     "data": {
      "text/plain": "                                                link   price  \\\n0  https://www.kijiji.ca/v-appartement-condo/vill...   995.0   \n1  https://www.kijiji.ca/v-appartement-condo/vill...  1400.0   \n2  https://www.kijiji.ca/v-appartement-condo/vill...  1490.0   \n3  https://www.kijiji.ca/v-appartement-condo/vill...  1995.0   \n4  https://www.kijiji.ca/v-appartement-condo/vill...  1875.0   \n\n                                               title  \\\n0            BEAU 31/2 RENOVÉ PRÉS DE MÉTRO CADILLAC   \n1  {3 1/2 - Downtown Griffintown} Prime Location ...   \n2  Appartement 4 1/2 à louer plateau mont-royal t...   \n3  Brand New & Modern Large 5 1/2 (3bed) in Heart...   \n4           {4 1/2 vieux montreal }  {Walk Score 99}   \n\n                                             address         type  rooms  \\\n0        3280 DE LA PÉPINIÈRE, MONTREAL, QC, H1N 3N4  Appartement  3 1/2   \n1    688 Rue Notre-Dame Ouest, Montreal, QC, H3W 1J4        Condo  3 1/2   \n2             3555, rue Berri, Montreal, QC, H2L 4G4  Appartement  4 1/2   \n3  4308 Rue Saint-Antoine O, Montréal, QC H4C 1C5...  Appartement  5 1/2   \n4    688 Rue Notre-Dame Ouest, Montreal, QC, H3W 1J4  Appartement  4 1/2   \n\n   bathroom electricity parking_spots  \\\n0       1.0        True             0   \n1       1.0       False             0   \n2       2.0        True             0   \n3       1.0         NaN             0   \n4       1.5         NaN             0   \n\n                                           utilities  furnished  \\\n0  , Buanderie (dans l'immeuble), , Réfrigérateur...      False   \n1  Buanderie (dans l'appartement), , Lave-vaissel...      False   \n2  , Buanderie (dans l'immeuble), Lave-vaisselle,...      False   \n3  Buanderie (dans l'appartement), , Lave-vaissel...      False   \n4  Buanderie (dans l'appartement), , Lave-vaissel...      False   \n\n             size  air_conditioned allow_pets  \n0  Non disponible            False        Non  \n1  Non disponible             True        Non  \n2  Non disponible             True        Non  \n3             900             True     Limité  \n4  Non disponible             True        Non  ",
      "text/html": "<div>\n<style scoped>\n    .dataframe tbody tr th:only-of-type {\n        vertical-align: middle;\n    }\n\n    .dataframe tbody tr th {\n        vertical-align: top;\n    }\n\n    .dataframe thead th {\n        text-align: right;\n    }\n</style>\n<table border=\"1\" class=\"dataframe\">\n  <thead>\n    <tr style=\"text-align: right;\">\n      <th></th>\n      <th>link</th>\n      <th>price</th>\n      <th>title</th>\n      <th>address</th>\n      <th>type</th>\n      <th>rooms</th>\n      <th>bathroom</th>\n      <th>electricity</th>\n      <th>parking_spots</th>\n      <th>utilities</th>\n      <th>furnished</th>\n      <th>size</th>\n      <th>air_conditioned</th>\n      <th>allow_pets</th>\n    </tr>\n  </thead>\n  <tbody>\n    <tr>\n      <th>0</th>\n      <td>https://www.kijiji.ca/v-appartement-condo/vill...</td>\n      <td>995.0</td>\n      <td>BEAU 31/2 RENOVÉ PRÉS DE MÉTRO CADILLAC</td>\n      <td>3280 DE LA PÉPINIÈRE, MONTREAL, QC, H1N 3N4</td>\n      <td>Appartement</td>\n      <td>3 1/2</td>\n      <td>1.0</td>\n      <td>True</td>\n      <td>0</td>\n      <td>, Buanderie (dans l'immeuble), , Réfrigérateur...</td>\n      <td>False</td>\n      <td>Non disponible</td>\n      <td>False</td>\n      <td>Non</td>\n    </tr>\n    <tr>\n      <th>1</th>\n      <td>https://www.kijiji.ca/v-appartement-condo/vill...</td>\n      <td>1400.0</td>\n      <td>{3 1/2 - Downtown Griffintown} Prime Location ...</td>\n      <td>688 Rue Notre-Dame Ouest, Montreal, QC, H3W 1J4</td>\n      <td>Condo</td>\n      <td>3 1/2</td>\n      <td>1.0</td>\n      <td>False</td>\n      <td>0</td>\n      <td>Buanderie (dans l'appartement), , Lave-vaissel...</td>\n      <td>False</td>\n      <td>Non disponible</td>\n      <td>True</td>\n      <td>Non</td>\n    </tr>\n    <tr>\n      <th>2</th>\n      <td>https://www.kijiji.ca/v-appartement-condo/vill...</td>\n      <td>1490.0</td>\n      <td>Appartement 4 1/2 à louer plateau mont-royal t...</td>\n      <td>3555, rue Berri, Montreal, QC, H2L 4G4</td>\n      <td>Appartement</td>\n      <td>4 1/2</td>\n      <td>2.0</td>\n      <td>True</td>\n      <td>0</td>\n      <td>, Buanderie (dans l'immeuble), Lave-vaisselle,...</td>\n      <td>False</td>\n      <td>Non disponible</td>\n      <td>True</td>\n      <td>Non</td>\n    </tr>\n    <tr>\n      <th>3</th>\n      <td>https://www.kijiji.ca/v-appartement-condo/vill...</td>\n      <td>1995.0</td>\n      <td>Brand New &amp; Modern Large 5 1/2 (3bed) in Heart...</td>\n      <td>4308 Rue Saint-Antoine O, Montréal, QC H4C 1C5...</td>\n      <td>Appartement</td>\n      <td>5 1/2</td>\n      <td>1.0</td>\n      <td>NaN</td>\n      <td>0</td>\n      <td>Buanderie (dans l'appartement), , Lave-vaissel...</td>\n      <td>False</td>\n      <td>900</td>\n      <td>True</td>\n      <td>Limité</td>\n    </tr>\n    <tr>\n      <th>4</th>\n      <td>https://www.kijiji.ca/v-appartement-condo/vill...</td>\n      <td>1875.0</td>\n      <td>{4 1/2 vieux montreal }  {Walk Score 99}</td>\n      <td>688 Rue Notre-Dame Ouest, Montreal, QC, H3W 1J4</td>\n      <td>Appartement</td>\n      <td>4 1/2</td>\n      <td>1.5</td>\n      <td>NaN</td>\n      <td>0</td>\n      <td>Buanderie (dans l'appartement), , Lave-vaissel...</td>\n      <td>False</td>\n      <td>Non disponible</td>\n      <td>True</td>\n      <td>Non</td>\n    </tr>\n  </tbody>\n</table>\n</div>"
     },
     "execution_count": 1,
     "metadata": {},
     "output_type": "execute_result"
    }
   ],
   "source": [
    "import pandas as pd\n",
    "import numpy as np\n",
    "raw_ads = pd.read_csv(\"ads_kijiji.csv\", index_col=0)\n",
    "raw_ads = raw_ads.rename(columns={\"services_Électricité\":\"electricity\"})\n",
    "raw_ads.head(5)"
   ]
  },
  {
   "cell_type": "markdown",
   "metadata": {
    "pycharm": {
     "is_executing": true
    }
   },
   "source": [
    "Let's load the listing scraping to merge with the current dataset and have the distance from downtown for all the appartments"
   ]
  },
  {
   "cell_type": "code",
   "execution_count": 2,
   "metadata": {
    "scrolled": true
   },
   "outputs": [
    {
     "data": {
      "text/plain": "   page                                               link           distance\n0     1  https://www.kijiji.ca/v-appartement-condo/vill...             < 9 km\n1     1  https://www.kijiji.ca/v-appartement-condo/vill...  Près de chez vous\n2     1  https://www.kijiji.ca/v-appartement-condo/vill...             < 2 km\n3     1  https://www.kijiji.ca/v-appartement-condo/vill...             < 3 km\n4     1  https://www.kijiji.ca/v-appartement-condo/vill...  Près de chez vous",
      "text/html": "<div>\n<style scoped>\n    .dataframe tbody tr th:only-of-type {\n        vertical-align: middle;\n    }\n\n    .dataframe tbody tr th {\n        vertical-align: top;\n    }\n\n    .dataframe thead th {\n        text-align: right;\n    }\n</style>\n<table border=\"1\" class=\"dataframe\">\n  <thead>\n    <tr style=\"text-align: right;\">\n      <th></th>\n      <th>page</th>\n      <th>link</th>\n      <th>distance</th>\n    </tr>\n  </thead>\n  <tbody>\n    <tr>\n      <th>0</th>\n      <td>1</td>\n      <td>https://www.kijiji.ca/v-appartement-condo/vill...</td>\n      <td>&lt; 9 km</td>\n    </tr>\n    <tr>\n      <th>1</th>\n      <td>1</td>\n      <td>https://www.kijiji.ca/v-appartement-condo/vill...</td>\n      <td>Près de chez vous</td>\n    </tr>\n    <tr>\n      <th>2</th>\n      <td>1</td>\n      <td>https://www.kijiji.ca/v-appartement-condo/vill...</td>\n      <td>&lt; 2 km</td>\n    </tr>\n    <tr>\n      <th>3</th>\n      <td>1</td>\n      <td>https://www.kijiji.ca/v-appartement-condo/vill...</td>\n      <td>&lt; 3 km</td>\n    </tr>\n    <tr>\n      <th>4</th>\n      <td>1</td>\n      <td>https://www.kijiji.ca/v-appartement-condo/vill...</td>\n      <td>Près de chez vous</td>\n    </tr>\n  </tbody>\n</table>\n</div>"
     },
     "execution_count": 2,
     "metadata": {},
     "output_type": "execute_result"
    }
   ],
   "source": [
    "distances = pd.read_csv(\"links.csv\", index_col=0)\n",
    "distances[\"link\"] = distances.apply(lambda row: \"https://www.kijiji.ca\"+row[\"link\"], axis=1)\n",
    "distances.head()"
   ]
  },
  {
   "cell_type": "code",
   "execution_count": 3,
   "metadata": {},
   "outputs": [
    {
     "data": {
      "text/plain": "                                                link  price  \\\n0  https://www.kijiji.ca/v-appartement-condo/vill...  995.0   \n1  https://www.kijiji.ca/v-appartement-condo/vill...  995.0   \n2  https://www.kijiji.ca/v-appartement-condo/vill...  995.0   \n3  https://www.kijiji.ca/v-appartement-condo/vill...  995.0   \n4  https://www.kijiji.ca/v-appartement-condo/vill...  995.0   \n\n                                     title  \\\n0  BEAU 31/2 RENOVÉ PRÉS DE MÉTRO CADILLAC   \n1  BEAU 31/2 RENOVÉ PRÉS DE MÉTRO CADILLAC   \n2  BEAU 31/2 RENOVÉ PRÉS DE MÉTRO CADILLAC   \n3  BEAU 31/2 RENOVÉ PRÉS DE MÉTRO CADILLAC   \n4  BEAU 31/2 RENOVÉ PRÉS DE MÉTRO CADILLAC   \n\n                                       address         type  rooms  bathroom  \\\n0  3280 DE LA PÉPINIÈRE, MONTREAL, QC, H1N 3N4  Appartement  3 1/2       1.0   \n1  3280 DE LA PÉPINIÈRE, MONTREAL, QC, H1N 3N4  Appartement  3 1/2       1.0   \n2  3280 DE LA PÉPINIÈRE, MONTREAL, QC, H1N 3N4  Appartement  3 1/2       1.0   \n3  3280 DE LA PÉPINIÈRE, MONTREAL, QC, H1N 3N4  Appartement  3 1/2       1.0   \n4  3280 DE LA PÉPINIÈRE, MONTREAL, QC, H1N 3N4  Appartement  3 1/2       1.0   \n\n  electricity parking_spots  \\\n0        True             0   \n1        True             0   \n2        True             0   \n3        True             0   \n4        True             0   \n\n                                           utilities  furnished  \\\n0  , Buanderie (dans l'immeuble), , Réfrigérateur...      False   \n1  , Buanderie (dans l'immeuble), , Réfrigérateur...      False   \n2  , Buanderie (dans l'immeuble), , Réfrigérateur...      False   \n3  , Buanderie (dans l'immeuble), , Réfrigérateur...      False   \n4  , Buanderie (dans l'immeuble), , Réfrigérateur...      False   \n\n             size  air_conditioned allow_pets  page distance  \n0  Non disponible            False        Non     1   < 9 km  \n1  Non disponible            False        Non    41   < 9 km  \n2  Non disponible            False        Non    46   < 9 km  \n3  Non disponible            False        Non     1   < 9 km  \n4  Non disponible            False        Non    41   < 9 km  ",
      "text/html": "<div>\n<style scoped>\n    .dataframe tbody tr th:only-of-type {\n        vertical-align: middle;\n    }\n\n    .dataframe tbody tr th {\n        vertical-align: top;\n    }\n\n    .dataframe thead th {\n        text-align: right;\n    }\n</style>\n<table border=\"1\" class=\"dataframe\">\n  <thead>\n    <tr style=\"text-align: right;\">\n      <th></th>\n      <th>link</th>\n      <th>price</th>\n      <th>title</th>\n      <th>address</th>\n      <th>type</th>\n      <th>rooms</th>\n      <th>bathroom</th>\n      <th>electricity</th>\n      <th>parking_spots</th>\n      <th>utilities</th>\n      <th>furnished</th>\n      <th>size</th>\n      <th>air_conditioned</th>\n      <th>allow_pets</th>\n      <th>page</th>\n      <th>distance</th>\n    </tr>\n  </thead>\n  <tbody>\n    <tr>\n      <th>0</th>\n      <td>https://www.kijiji.ca/v-appartement-condo/vill...</td>\n      <td>995.0</td>\n      <td>BEAU 31/2 RENOVÉ PRÉS DE MÉTRO CADILLAC</td>\n      <td>3280 DE LA PÉPINIÈRE, MONTREAL, QC, H1N 3N4</td>\n      <td>Appartement</td>\n      <td>3 1/2</td>\n      <td>1.0</td>\n      <td>True</td>\n      <td>0</td>\n      <td>, Buanderie (dans l'immeuble), , Réfrigérateur...</td>\n      <td>False</td>\n      <td>Non disponible</td>\n      <td>False</td>\n      <td>Non</td>\n      <td>1</td>\n      <td>&lt; 9 km</td>\n    </tr>\n    <tr>\n      <th>1</th>\n      <td>https://www.kijiji.ca/v-appartement-condo/vill...</td>\n      <td>995.0</td>\n      <td>BEAU 31/2 RENOVÉ PRÉS DE MÉTRO CADILLAC</td>\n      <td>3280 DE LA PÉPINIÈRE, MONTREAL, QC, H1N 3N4</td>\n      <td>Appartement</td>\n      <td>3 1/2</td>\n      <td>1.0</td>\n      <td>True</td>\n      <td>0</td>\n      <td>, Buanderie (dans l'immeuble), , Réfrigérateur...</td>\n      <td>False</td>\n      <td>Non disponible</td>\n      <td>False</td>\n      <td>Non</td>\n      <td>41</td>\n      <td>&lt; 9 km</td>\n    </tr>\n    <tr>\n      <th>2</th>\n      <td>https://www.kijiji.ca/v-appartement-condo/vill...</td>\n      <td>995.0</td>\n      <td>BEAU 31/2 RENOVÉ PRÉS DE MÉTRO CADILLAC</td>\n      <td>3280 DE LA PÉPINIÈRE, MONTREAL, QC, H1N 3N4</td>\n      <td>Appartement</td>\n      <td>3 1/2</td>\n      <td>1.0</td>\n      <td>True</td>\n      <td>0</td>\n      <td>, Buanderie (dans l'immeuble), , Réfrigérateur...</td>\n      <td>False</td>\n      <td>Non disponible</td>\n      <td>False</td>\n      <td>Non</td>\n      <td>46</td>\n      <td>&lt; 9 km</td>\n    </tr>\n    <tr>\n      <th>3</th>\n      <td>https://www.kijiji.ca/v-appartement-condo/vill...</td>\n      <td>995.0</td>\n      <td>BEAU 31/2 RENOVÉ PRÉS DE MÉTRO CADILLAC</td>\n      <td>3280 DE LA PÉPINIÈRE, MONTREAL, QC, H1N 3N4</td>\n      <td>Appartement</td>\n      <td>3 1/2</td>\n      <td>1.0</td>\n      <td>True</td>\n      <td>0</td>\n      <td>, Buanderie (dans l'immeuble), , Réfrigérateur...</td>\n      <td>False</td>\n      <td>Non disponible</td>\n      <td>False</td>\n      <td>Non</td>\n      <td>1</td>\n      <td>&lt; 9 km</td>\n    </tr>\n    <tr>\n      <th>4</th>\n      <td>https://www.kijiji.ca/v-appartement-condo/vill...</td>\n      <td>995.0</td>\n      <td>BEAU 31/2 RENOVÉ PRÉS DE MÉTRO CADILLAC</td>\n      <td>3280 DE LA PÉPINIÈRE, MONTREAL, QC, H1N 3N4</td>\n      <td>Appartement</td>\n      <td>3 1/2</td>\n      <td>1.0</td>\n      <td>True</td>\n      <td>0</td>\n      <td>, Buanderie (dans l'immeuble), , Réfrigérateur...</td>\n      <td>False</td>\n      <td>Non disponible</td>\n      <td>False</td>\n      <td>Non</td>\n      <td>41</td>\n      <td>&lt; 9 km</td>\n    </tr>\n  </tbody>\n</table>\n</div>"
     },
     "execution_count": 3,
     "metadata": {},
     "output_type": "execute_result"
    }
   ],
   "source": [
    "raw_ads = pd.merge(raw_ads, distances, left_on=\"link\", right_on=\"link\")\n",
    "raw_ads.head()"
   ]
  },
  {
   "cell_type": "code",
   "execution_count": 4,
   "metadata": {},
   "outputs": [
    {
     "data": {
      "text/plain": "(250630, 16)"
     },
     "execution_count": 4,
     "metadata": {},
     "output_type": "execute_result"
    }
   ],
   "source": [
    "raw_ads.shape"
   ]
  },
  {
   "cell_type": "code",
   "execution_count": 5,
   "metadata": {},
   "outputs": [
    {
     "data": {
      "text/plain": "241"
     },
     "execution_count": 5,
     "metadata": {},
     "output_type": "execute_result"
    }
   ],
   "source": [
    "len(raw_ads[\"link\"].unique())"
   ]
  },
  {
   "cell_type": "code",
   "execution_count": 6,
   "metadata": {},
   "outputs": [
    {
     "data": {
      "text/plain": "201"
     },
     "execution_count": 6,
     "metadata": {},
     "output_type": "execute_result"
    }
   ],
   "source": [
    "len(raw_ads[\"address\"].unique())"
   ]
  },
  {
   "cell_type": "markdown",
   "metadata": {},
   "source": [
    "Many duplicates, looks like Kijiji served us many times the same ads when we scrapped the listings. We will remove the duplicates according to their link as some appartments building probably advertise their appartments of different size on different ads."
   ]
  },
  {
   "cell_type": "code",
   "execution_count": 7,
   "metadata": {},
   "outputs": [
    {
     "data": {
      "text/plain": "(241, 16)"
     },
     "execution_count": 7,
     "metadata": {},
     "output_type": "execute_result"
    }
   ],
   "source": [
    "raw_ads_no_duplicates = raw_ads.copy().drop_duplicates(subset=[\"link\"])\n",
    "raw_ads_no_duplicates.shape"
   ]
  },
  {
   "cell_type": "code",
   "execution_count": 8,
   "metadata": {},
   "outputs": [
    {
     "name": "stdout",
     "output_type": "stream",
     "text": [
      "<class 'pandas.core.frame.DataFrame'>\n",
      "Int64Index: 241 entries, 0 to 250629\n",
      "Data columns (total 16 columns):\n",
      " #   Column           Non-Null Count  Dtype  \n",
      "---  ------           --------------  -----  \n",
      " 0   link             241 non-null    object \n",
      " 1   price            231 non-null    float64\n",
      " 2   title            237 non-null    object \n",
      " 3   address          237 non-null    object \n",
      " 4   type             237 non-null    object \n",
      " 5   rooms            237 non-null    object \n",
      " 6   bathroom         237 non-null    float64\n",
      " 7   electricity      151 non-null    object \n",
      " 8   parking_spots    241 non-null    object \n",
      " 9   utilities        211 non-null    object \n",
      " 10  furnished        241 non-null    bool   \n",
      " 11  size             237 non-null    object \n",
      " 12  air_conditioned  241 non-null    bool   \n",
      " 13  allow_pets       237 non-null    object \n",
      " 14  page             241 non-null    int64  \n",
      " 15  distance         241 non-null    object \n",
      "dtypes: bool(2), float64(2), int64(1), object(11)\n",
      "memory usage: 28.7+ KB\n"
     ]
    }
   ],
   "source": [
    "raw_ads_no_duplicates.info()"
   ]
  },
  {
   "cell_type": "code",
   "execution_count": 9,
   "metadata": {},
   "outputs": [
    {
     "data": {
      "text/plain": "Appartement       185\nCondo              40\nDuplex/Triplex     11\nSous-sol            1\nName: type, dtype: int64"
     },
     "execution_count": 9,
     "metadata": {},
     "output_type": "execute_result"
    }
   ],
   "source": [
    "raw_ads_no_duplicates[\"type\"].value_counts()"
   ]
  },
  {
   "cell_type": "code",
   "execution_count": 10,
   "metadata": {},
   "outputs": [
    {
     "data": {
      "text/plain": "4 1/2                    91\n3 1/2                    72\n1 ½ ou 2 ½               24\n5 1/2                    21\n4 1/2 et coin détente     8\n5 1/2 et coin détente     7\n3 1/2 et coin détente     6\n6 1/2                     6\n7 1/2 +                   1\n6 1/2 et coin détente     1\nName: rooms, dtype: int64"
     },
     "execution_count": 10,
     "metadata": {},
     "output_type": "execute_result"
    }
   ],
   "source": [
    "raw_ads_no_duplicates[\"rooms\"].value_counts()"
   ]
  },
  {
   "cell_type": "code",
   "execution_count": 11,
   "metadata": {},
   "outputs": [],
   "source": [
    "import math\n",
    "def sanitize_rooms_field(value):\n",
    "    if type(value)== str:\n",
    "        value = value[0]\n",
    "    return value\n",
    "\n",
    "def clamp_rooms_field(value):\n",
    "    if value > 5:\n",
    "        value = 5\n",
    "    return value\n",
    "\n",
    "raw_ads_no_duplicates[\"rooms\"] = raw_ads_no_duplicates.apply(lambda row: sanitize_rooms_field(row[\"rooms\"]), axis=1)\n",
    "raw_ads_no_duplicates[\"rooms\"] = pd.to_numeric(raw_ads_no_duplicates[\"rooms\"], errors=\"coerce\")\n",
    "raw_ads_no_duplicates[\"rooms\"] = raw_ads_no_duplicates.apply(lambda row: clamp_rooms_field(row[\"rooms\"]), axis=1)"
   ]
  },
  {
   "cell_type": "code",
   "execution_count": 12,
   "metadata": {},
   "outputs": [
    {
     "data": {
      "text/plain": "count    237.000000\nmean       3.518987\nstd        1.079792\nmin        1.000000\n25%        3.000000\n50%        4.000000\n75%        4.000000\nmax        5.000000\nName: rooms, dtype: float64"
     },
     "execution_count": 12,
     "metadata": {},
     "output_type": "execute_result"
    }
   ],
   "source": [
    "raw_ads_no_duplicates[\"rooms\"].describe()"
   ]
  },
  {
   "cell_type": "code",
   "execution_count": 13,
   "metadata": {},
   "outputs": [
    {
     "data": {
      "text/plain": "4"
     },
     "execution_count": 13,
     "metadata": {},
     "output_type": "execute_result"
    }
   ],
   "source": [
    "raw_ads_no_duplicates[\"rooms\"].isna().sum()"
   ]
  },
  {
   "cell_type": "code",
   "execution_count": 14,
   "metadata": {},
   "outputs": [],
   "source": [
    "raw_ads_no_duplicates[\"size\"] = pd.to_numeric(raw_ads_no_duplicates[\"size\"], errors='coerce')"
   ]
  },
  {
   "cell_type": "code",
   "execution_count": 15,
   "metadata": {},
   "outputs": [
    {
     "data": {
      "text/plain": "link                 0\nprice               10\ntitle                4\naddress              4\ntype                 4\nrooms                4\nbathroom             4\nelectricity         90\nparking_spots        0\nutilities           30\nfurnished            0\nsize               110\nair_conditioned      0\nallow_pets           4\npage                 0\ndistance             0\ndtype: int64"
     },
     "execution_count": 15,
     "metadata": {},
     "output_type": "execute_result"
    }
   ],
   "source": [
    "raw_ads_no_duplicates.isna().sum()"
   ]
  },
  {
   "cell_type": "code",
   "execution_count": 16,
   "metadata": {},
   "outputs": [
    {
     "data": {
      "text/plain": "                                                     link  price title  \\\n160042  https://www.kijiji.ca/v-appartement-condo/vill...    NaN   NaN   \n247309  https://www.kijiji.ca/v-appartement-condo/vill...    NaN   NaN   \n247484  https://www.kijiji.ca/v-appartement-condo/vill...    NaN   NaN   \n247592  https://www.kijiji.ca/v-appartement-condo/vill...    NaN   NaN   \n\n       address type  rooms  bathroom electricity parking_spots utilities  \\\n160042     NaN  NaN    NaN       NaN         NaN             0       NaN   \n247309     NaN  NaN    NaN       NaN         NaN             0       NaN   \n247484     NaN  NaN    NaN       NaN         NaN             0       NaN   \n247592     NaN  NaN    NaN       NaN         NaN             0       NaN   \n\n        furnished  size  air_conditioned allow_pets  page distance  \n160042      False   NaN            False        NaN     1  < 10 km  \n247309      False   NaN            False        NaN    13   < 3 km  \n247484      False   NaN            False        NaN    22   < 6 km  \n247592      False   NaN            False        NaN    28   < 4 km  ",
      "text/html": "<div>\n<style scoped>\n    .dataframe tbody tr th:only-of-type {\n        vertical-align: middle;\n    }\n\n    .dataframe tbody tr th {\n        vertical-align: top;\n    }\n\n    .dataframe thead th {\n        text-align: right;\n    }\n</style>\n<table border=\"1\" class=\"dataframe\">\n  <thead>\n    <tr style=\"text-align: right;\">\n      <th></th>\n      <th>link</th>\n      <th>price</th>\n      <th>title</th>\n      <th>address</th>\n      <th>type</th>\n      <th>rooms</th>\n      <th>bathroom</th>\n      <th>electricity</th>\n      <th>parking_spots</th>\n      <th>utilities</th>\n      <th>furnished</th>\n      <th>size</th>\n      <th>air_conditioned</th>\n      <th>allow_pets</th>\n      <th>page</th>\n      <th>distance</th>\n    </tr>\n  </thead>\n  <tbody>\n    <tr>\n      <th>160042</th>\n      <td>https://www.kijiji.ca/v-appartement-condo/vill...</td>\n      <td>NaN</td>\n      <td>NaN</td>\n      <td>NaN</td>\n      <td>NaN</td>\n      <td>NaN</td>\n      <td>NaN</td>\n      <td>NaN</td>\n      <td>0</td>\n      <td>NaN</td>\n      <td>False</td>\n      <td>NaN</td>\n      <td>False</td>\n      <td>NaN</td>\n      <td>1</td>\n      <td>&lt; 10 km</td>\n    </tr>\n    <tr>\n      <th>247309</th>\n      <td>https://www.kijiji.ca/v-appartement-condo/vill...</td>\n      <td>NaN</td>\n      <td>NaN</td>\n      <td>NaN</td>\n      <td>NaN</td>\n      <td>NaN</td>\n      <td>NaN</td>\n      <td>NaN</td>\n      <td>0</td>\n      <td>NaN</td>\n      <td>False</td>\n      <td>NaN</td>\n      <td>False</td>\n      <td>NaN</td>\n      <td>13</td>\n      <td>&lt; 3 km</td>\n    </tr>\n    <tr>\n      <th>247484</th>\n      <td>https://www.kijiji.ca/v-appartement-condo/vill...</td>\n      <td>NaN</td>\n      <td>NaN</td>\n      <td>NaN</td>\n      <td>NaN</td>\n      <td>NaN</td>\n      <td>NaN</td>\n      <td>NaN</td>\n      <td>0</td>\n      <td>NaN</td>\n      <td>False</td>\n      <td>NaN</td>\n      <td>False</td>\n      <td>NaN</td>\n      <td>22</td>\n      <td>&lt; 6 km</td>\n    </tr>\n    <tr>\n      <th>247592</th>\n      <td>https://www.kijiji.ca/v-appartement-condo/vill...</td>\n      <td>NaN</td>\n      <td>NaN</td>\n      <td>NaN</td>\n      <td>NaN</td>\n      <td>NaN</td>\n      <td>NaN</td>\n      <td>NaN</td>\n      <td>0</td>\n      <td>NaN</td>\n      <td>False</td>\n      <td>NaN</td>\n      <td>False</td>\n      <td>NaN</td>\n      <td>28</td>\n      <td>&lt; 4 km</td>\n    </tr>\n  </tbody>\n</table>\n</div>"
     },
     "execution_count": 16,
     "metadata": {},
     "output_type": "execute_result"
    }
   ],
   "source": [
    "raw_ads_no_duplicates[raw_ads_no_duplicates[\"title\"].isna()]"
   ]
  },
  {
   "cell_type": "markdown",
   "metadata": {},
   "source": [
    "The cells are all just empty, so we will simply drop them."
   ]
  },
  {
   "cell_type": "code",
   "execution_count": 17,
   "metadata": {},
   "outputs": [
    {
     "data": {
      "text/plain": "(0, 16)"
     },
     "execution_count": 17,
     "metadata": {},
     "output_type": "execute_result"
    }
   ],
   "source": [
    "raw_ads_no_duplicates.dropna(subset=[\"title\"], inplace=True)\n",
    "raw_ads_no_duplicates[raw_ads_no_duplicates[\"title\"].isna()].shape"
   ]
  },
  {
   "cell_type": "code",
   "execution_count": 18,
   "metadata": {
    "scrolled": false
   },
   "outputs": [
    {
     "data": {
      "text/plain": "                                                     link  price  \\\n70442   https://www.kijiji.ca/v-appartement-condo/lava...    NaN   \n211242  https://www.kijiji.ca/v-appartement-condo/vill...    NaN   \n246992  https://www.kijiji.ca/v-appartement-condo/vill...    NaN   \n247303  https://www.kijiji.ca/v-appartement-condo/long...    NaN   \n247544  https://www.kijiji.ca/v-appartement-condo/vill...    NaN   \n249611  https://www.kijiji.ca/v-appartement-condo/vill...    NaN   \n\n                                                    title  \\\n70442                             3 1/2 for rent in laval   \n211242     New TDC3 2 bed 2 bath 1000+ sqft. corner condo   \n246992     3½ - APPARTEMENTS-HÔTEL - MEUBLÉ & TOUT INCLUS   \n247303              LOGEMENTS  A   LOUER   A    LONGUEUIL   \n247544  1635 dudemaine appartement à louer 4 1/2 Ahunt...   \n249611  3½ - APPARTEMENTS-HÔTEL - CENTRE-VILLE DE MONT...   \n\n                                                  address         type  rooms  \\\n70442                                 , h7n5a4, laval, QC  Appartement    3.0   \n211242  1288 Rue Saint-Antoine O, Montréal, QC H3C 1C2...        Condo    4.0   \n246992  985 Boul St-Laurent, Montréal, QC H2Z 1J4, Canada  Appartement    3.0   \n247303  863 Rue de Gentilly E, Longueuil, QC J4J 4L2, ...  Appartement    1.0   \n247544              1615 dudemaine, montréal, QC, H3M 1R2  Appartement    4.0   \n249611  985 Boul St-Laurent, Montréal, QC H2Z 1J4, Canada  Appartement    3.0   \n\n        bathroom electricity parking_spots  \\\n70442        1.0       False             0   \n211242       2.0       False             1   \n246992       1.0        True             0   \n247303       1.0        True             1   \n247544       1.0       False             0   \n249611       2.0        True             0   \n\n                                                utilities  furnished   size  \\\n70442   , Buanderie (dans l'immeuble), , Réfrigérateur...      False    1.0   \n211242  Buanderie (dans l'appartement), , Lave-vaissel...      False    NaN   \n246992  , Buanderie (dans l'immeuble), Lave-vaisselle,...       True  570.0   \n247303  Buanderie (dans l'appartement), Buanderie (dan...      False  700.0   \n247544                  , Buanderie (dans l'immeuble), ,       False    NaN   \n249611  , Buanderie (dans l'immeuble), Lave-vaisselle,...       True  590.0   \n\n        air_conditioned allow_pets  page           distance  \n70442             False        Non     1            < 12 km  \n211242             True     Limité     1  Près de chez vous  \n246992             True        Oui     3  Près de chez vous  \n247303            False        Oui    13             < 8 km  \n247544            False        Non    25            < 10 km  \n249611             True        Oui    43  Près de chez vous  ",
      "text/html": "<div>\n<style scoped>\n    .dataframe tbody tr th:only-of-type {\n        vertical-align: middle;\n    }\n\n    .dataframe tbody tr th {\n        vertical-align: top;\n    }\n\n    .dataframe thead th {\n        text-align: right;\n    }\n</style>\n<table border=\"1\" class=\"dataframe\">\n  <thead>\n    <tr style=\"text-align: right;\">\n      <th></th>\n      <th>link</th>\n      <th>price</th>\n      <th>title</th>\n      <th>address</th>\n      <th>type</th>\n      <th>rooms</th>\n      <th>bathroom</th>\n      <th>electricity</th>\n      <th>parking_spots</th>\n      <th>utilities</th>\n      <th>furnished</th>\n      <th>size</th>\n      <th>air_conditioned</th>\n      <th>allow_pets</th>\n      <th>page</th>\n      <th>distance</th>\n    </tr>\n  </thead>\n  <tbody>\n    <tr>\n      <th>70442</th>\n      <td>https://www.kijiji.ca/v-appartement-condo/lava...</td>\n      <td>NaN</td>\n      <td>3 1/2 for rent in laval</td>\n      <td>, h7n5a4, laval, QC</td>\n      <td>Appartement</td>\n      <td>3.0</td>\n      <td>1.0</td>\n      <td>False</td>\n      <td>0</td>\n      <td>, Buanderie (dans l'immeuble), , Réfrigérateur...</td>\n      <td>False</td>\n      <td>1.0</td>\n      <td>False</td>\n      <td>Non</td>\n      <td>1</td>\n      <td>&lt; 12 km</td>\n    </tr>\n    <tr>\n      <th>211242</th>\n      <td>https://www.kijiji.ca/v-appartement-condo/vill...</td>\n      <td>NaN</td>\n      <td>New TDC3 2 bed 2 bath 1000+ sqft. corner condo</td>\n      <td>1288 Rue Saint-Antoine O, Montréal, QC H3C 1C2...</td>\n      <td>Condo</td>\n      <td>4.0</td>\n      <td>2.0</td>\n      <td>False</td>\n      <td>1</td>\n      <td>Buanderie (dans l'appartement), , Lave-vaissel...</td>\n      <td>False</td>\n      <td>NaN</td>\n      <td>True</td>\n      <td>Limité</td>\n      <td>1</td>\n      <td>Près de chez vous</td>\n    </tr>\n    <tr>\n      <th>246992</th>\n      <td>https://www.kijiji.ca/v-appartement-condo/vill...</td>\n      <td>NaN</td>\n      <td>3½ - APPARTEMENTS-HÔTEL - MEUBLÉ &amp; TOUT INCLUS</td>\n      <td>985 Boul St-Laurent, Montréal, QC H2Z 1J4, Canada</td>\n      <td>Appartement</td>\n      <td>3.0</td>\n      <td>1.0</td>\n      <td>True</td>\n      <td>0</td>\n      <td>, Buanderie (dans l'immeuble), Lave-vaisselle,...</td>\n      <td>True</td>\n      <td>570.0</td>\n      <td>True</td>\n      <td>Oui</td>\n      <td>3</td>\n      <td>Près de chez vous</td>\n    </tr>\n    <tr>\n      <th>247303</th>\n      <td>https://www.kijiji.ca/v-appartement-condo/long...</td>\n      <td>NaN</td>\n      <td>LOGEMENTS  A   LOUER   A    LONGUEUIL</td>\n      <td>863 Rue de Gentilly E, Longueuil, QC J4J 4L2, ...</td>\n      <td>Appartement</td>\n      <td>1.0</td>\n      <td>1.0</td>\n      <td>True</td>\n      <td>1</td>\n      <td>Buanderie (dans l'appartement), Buanderie (dan...</td>\n      <td>False</td>\n      <td>700.0</td>\n      <td>False</td>\n      <td>Oui</td>\n      <td>13</td>\n      <td>&lt; 8 km</td>\n    </tr>\n    <tr>\n      <th>247544</th>\n      <td>https://www.kijiji.ca/v-appartement-condo/vill...</td>\n      <td>NaN</td>\n      <td>1635 dudemaine appartement à louer 4 1/2 Ahunt...</td>\n      <td>1615 dudemaine, montréal, QC, H3M 1R2</td>\n      <td>Appartement</td>\n      <td>4.0</td>\n      <td>1.0</td>\n      <td>False</td>\n      <td>0</td>\n      <td>, Buanderie (dans l'immeuble), ,</td>\n      <td>False</td>\n      <td>NaN</td>\n      <td>False</td>\n      <td>Non</td>\n      <td>25</td>\n      <td>&lt; 10 km</td>\n    </tr>\n    <tr>\n      <th>249611</th>\n      <td>https://www.kijiji.ca/v-appartement-condo/vill...</td>\n      <td>NaN</td>\n      <td>3½ - APPARTEMENTS-HÔTEL - CENTRE-VILLE DE MONT...</td>\n      <td>985 Boul St-Laurent, Montréal, QC H2Z 1J4, Canada</td>\n      <td>Appartement</td>\n      <td>3.0</td>\n      <td>2.0</td>\n      <td>True</td>\n      <td>0</td>\n      <td>, Buanderie (dans l'immeuble), Lave-vaisselle,...</td>\n      <td>True</td>\n      <td>590.0</td>\n      <td>True</td>\n      <td>Oui</td>\n      <td>43</td>\n      <td>Près de chez vous</td>\n    </tr>\n  </tbody>\n</table>\n</div>"
     },
     "execution_count": 18,
     "metadata": {},
     "output_type": "execute_result"
    }
   ],
   "source": [
    "raw_ads_no_duplicates[raw_ads_no_duplicates[\"price\"].isna()]"
   ]
  },
  {
   "cell_type": "markdown",
   "metadata": {},
   "source": [
    "No missing values other than the price. We will fill them with the mean price of the other appartments of the same number of rooms"
   ]
  },
  {
   "cell_type": "code",
   "execution_count": 19,
   "metadata": {},
   "outputs": [],
   "source": [
    "mean_price_per_rooms = raw_ads_no_duplicates.groupby(\"rooms\").mean()[\"price\"]\n",
    "na = raw_ads_no_duplicates[\"price\"].isna()\n",
    "for index in na[na].index:\n",
    "    raw_ads_no_duplicates.loc[index, \"price\"] = mean_price_per_rooms[raw_ads_no_duplicates.loc[index, \"rooms\"]]"
   ]
  },
  {
   "cell_type": "markdown",
   "metadata": {},
   "source": [
    "Filling NaN with the mean of appartments of their size, then verifying there are no more NaN."
   ]
  },
  {
   "cell_type": "code",
   "execution_count": 20,
   "metadata": {},
   "outputs": [
    {
     "data": {
      "text/plain": "0"
     },
     "execution_count": 20,
     "metadata": {},
     "output_type": "execute_result"
    }
   ],
   "source": [
    "raw_ads_no_duplicates[\"price\"].isna().sum()"
   ]
  },
  {
   "cell_type": "code",
   "execution_count": 21,
   "metadata": {},
   "outputs": [],
   "source": [
    "raw_ads_no_duplicates.fillna(value={\"electricity\": False, \"allow_pets\": False, \"utilities\": \"\"},inplace=True)"
   ]
  },
  {
   "cell_type": "code",
   "execution_count": 22,
   "metadata": {},
   "outputs": [
    {
     "data": {
      "text/plain": "Près de chez vous    48\n< 5 km               34\n< 2 km               25\n< 8 km               24\n< 4 km               21\n< 9 km               17\n< 7 km               17\n< 3 km               15\n< 10 km              12\n< 6 km               11\n< 11 km               7\n< 12 km               6\nName: distance, dtype: int64"
     },
     "execution_count": 22,
     "metadata": {},
     "output_type": "execute_result"
    }
   ],
   "source": [
    "raw_ads_no_duplicates[\"distance\"].value_counts()"
   ]
  },
  {
   "cell_type": "code",
   "execution_count": 23,
   "metadata": {},
   "outputs": [],
   "source": [
    "def sanitize_distance_field(distance):\n",
    "    if type(distance) == str:\n",
    "        if distance == \"Près de chez vous\":\n",
    "            return 1\n",
    "        if len(distance) > 2:\n",
    "            return distance.split(\" \")[1]\n",
    "    return distance\n",
    "\n",
    "raw_ads_no_duplicates[\"distance\"] = raw_ads_no_duplicates.apply(lambda row: sanitize_distance_field(row[\"distance\"]), axis=1)\n",
    "raw_ads_no_duplicates[\"distance\"] = pd.to_numeric(raw_ads_no_duplicates[\"distance\"], errors=\"coerce\")"
   ]
  },
  {
   "cell_type": "code",
   "execution_count": 24,
   "metadata": {},
   "outputs": [],
   "source": [
    "def sanitize_parking_spots_field(distance):\n",
    "    if type(distance) == str:\n",
    "        return distance.split(\" \")[0]\n",
    "    return distance\n",
    "\n",
    "raw_ads_no_duplicates[\"parking_spots\"] = raw_ads_no_duplicates.apply(lambda row: sanitize_parking_spots_field(row[\"parking_spots\"]), axis=1)\n",
    "raw_ads_no_duplicates[\"parking_spots\"] = pd.to_numeric(raw_ads_no_duplicates[\"parking_spots\"], errors=\"coerce\")"
   ]
  },
  {
   "cell_type": "code",
   "execution_count": 25,
   "metadata": {},
   "outputs": [
    {
     "data": {
      "text/plain": "                                                 link   price  \\\n0   https://www.kijiji.ca/v-appartement-condo/vill...   995.0   \n9   https://www.kijiji.ca/v-appartement-condo/vill...  1400.0   \n25  https://www.kijiji.ca/v-appartement-condo/vill...  1490.0   \n29  https://www.kijiji.ca/v-appartement-condo/vill...  1995.0   \n38  https://www.kijiji.ca/v-appartement-condo/vill...  1875.0   \n\n                                                title  \\\n0             BEAU 31/2 RENOVÉ PRÉS DE MÉTRO CADILLAC   \n9   {3 1/2 - Downtown Griffintown} Prime Location ...   \n25  Appartement 4 1/2 à louer plateau mont-royal t...   \n29  Brand New & Modern Large 5 1/2 (3bed) in Heart...   \n38           {4 1/2 vieux montreal }  {Walk Score 99}   \n\n                                              address         type  rooms  \\\n0         3280 DE LA PÉPINIÈRE, MONTREAL, QC, H1N 3N4  Appartement    3.0   \n9     688 Rue Notre-Dame Ouest, Montreal, QC, H3W 1J4        Condo    3.0   \n25             3555, rue Berri, Montreal, QC, H2L 4G4  Appartement    4.0   \n29  4308 Rue Saint-Antoine O, Montréal, QC H4C 1C5...  Appartement    5.0   \n38    688 Rue Notre-Dame Ouest, Montreal, QC, H3W 1J4  Appartement    4.0   \n\n    bathroom  electricity  parking_spots  \\\n0        1.0         True              0   \n9        1.0        False              0   \n25       2.0         True              0   \n29       1.0        False              0   \n38       1.5        False              0   \n\n                                            utilities  furnished   size  \\\n0   , Buanderie (dans l'immeuble), , Réfrigérateur...      False    NaN   \n9   Buanderie (dans l'appartement), , Lave-vaissel...      False    NaN   \n25  , Buanderie (dans l'immeuble), Lave-vaisselle,...      False    NaN   \n29  Buanderie (dans l'appartement), , Lave-vaissel...      False  900.0   \n38  Buanderie (dans l'appartement), , Lave-vaissel...      False    NaN   \n\n    air_conditioned allow_pets  page  distance  luxury  \n0             False        Non     1         9    True  \n9              True        Non     1         1   False  \n25             True        Non     1         2   False  \n29             True     Limité     1         3    True  \n38             True        Non     1         1   False  ",
      "text/html": "<div>\n<style scoped>\n    .dataframe tbody tr th:only-of-type {\n        vertical-align: middle;\n    }\n\n    .dataframe tbody tr th {\n        vertical-align: top;\n    }\n\n    .dataframe thead th {\n        text-align: right;\n    }\n</style>\n<table border=\"1\" class=\"dataframe\">\n  <thead>\n    <tr style=\"text-align: right;\">\n      <th></th>\n      <th>link</th>\n      <th>price</th>\n      <th>title</th>\n      <th>address</th>\n      <th>type</th>\n      <th>rooms</th>\n      <th>bathroom</th>\n      <th>electricity</th>\n      <th>parking_spots</th>\n      <th>utilities</th>\n      <th>furnished</th>\n      <th>size</th>\n      <th>air_conditioned</th>\n      <th>allow_pets</th>\n      <th>page</th>\n      <th>distance</th>\n      <th>luxury</th>\n    </tr>\n  </thead>\n  <tbody>\n    <tr>\n      <th>0</th>\n      <td>https://www.kijiji.ca/v-appartement-condo/vill...</td>\n      <td>995.0</td>\n      <td>BEAU 31/2 RENOVÉ PRÉS DE MÉTRO CADILLAC</td>\n      <td>3280 DE LA PÉPINIÈRE, MONTREAL, QC, H1N 3N4</td>\n      <td>Appartement</td>\n      <td>3.0</td>\n      <td>1.0</td>\n      <td>True</td>\n      <td>0</td>\n      <td>, Buanderie (dans l'immeuble), , Réfrigérateur...</td>\n      <td>False</td>\n      <td>NaN</td>\n      <td>False</td>\n      <td>Non</td>\n      <td>1</td>\n      <td>9</td>\n      <td>True</td>\n    </tr>\n    <tr>\n      <th>9</th>\n      <td>https://www.kijiji.ca/v-appartement-condo/vill...</td>\n      <td>1400.0</td>\n      <td>{3 1/2 - Downtown Griffintown} Prime Location ...</td>\n      <td>688 Rue Notre-Dame Ouest, Montreal, QC, H3W 1J4</td>\n      <td>Condo</td>\n      <td>3.0</td>\n      <td>1.0</td>\n      <td>False</td>\n      <td>0</td>\n      <td>Buanderie (dans l'appartement), , Lave-vaissel...</td>\n      <td>False</td>\n      <td>NaN</td>\n      <td>True</td>\n      <td>Non</td>\n      <td>1</td>\n      <td>1</td>\n      <td>False</td>\n    </tr>\n    <tr>\n      <th>25</th>\n      <td>https://www.kijiji.ca/v-appartement-condo/vill...</td>\n      <td>1490.0</td>\n      <td>Appartement 4 1/2 à louer plateau mont-royal t...</td>\n      <td>3555, rue Berri, Montreal, QC, H2L 4G4</td>\n      <td>Appartement</td>\n      <td>4.0</td>\n      <td>2.0</td>\n      <td>True</td>\n      <td>0</td>\n      <td>, Buanderie (dans l'immeuble), Lave-vaisselle,...</td>\n      <td>False</td>\n      <td>NaN</td>\n      <td>True</td>\n      <td>Non</td>\n      <td>1</td>\n      <td>2</td>\n      <td>False</td>\n    </tr>\n    <tr>\n      <th>29</th>\n      <td>https://www.kijiji.ca/v-appartement-condo/vill...</td>\n      <td>1995.0</td>\n      <td>Brand New &amp; Modern Large 5 1/2 (3bed) in Heart...</td>\n      <td>4308 Rue Saint-Antoine O, Montréal, QC H4C 1C5...</td>\n      <td>Appartement</td>\n      <td>5.0</td>\n      <td>1.0</td>\n      <td>False</td>\n      <td>0</td>\n      <td>Buanderie (dans l'appartement), , Lave-vaissel...</td>\n      <td>False</td>\n      <td>900.0</td>\n      <td>True</td>\n      <td>Limité</td>\n      <td>1</td>\n      <td>3</td>\n      <td>True</td>\n    </tr>\n    <tr>\n      <th>38</th>\n      <td>https://www.kijiji.ca/v-appartement-condo/vill...</td>\n      <td>1875.0</td>\n      <td>{4 1/2 vieux montreal }  {Walk Score 99}</td>\n      <td>688 Rue Notre-Dame Ouest, Montreal, QC, H3W 1J4</td>\n      <td>Appartement</td>\n      <td>4.0</td>\n      <td>1.5</td>\n      <td>False</td>\n      <td>0</td>\n      <td>Buanderie (dans l'appartement), , Lave-vaissel...</td>\n      <td>False</td>\n      <td>NaN</td>\n      <td>True</td>\n      <td>Non</td>\n      <td>1</td>\n      <td>1</td>\n      <td>False</td>\n    </tr>\n  </tbody>\n</table>\n</div>"
     },
     "execution_count": 25,
     "metadata": {},
     "output_type": "execute_result"
    }
   ],
   "source": [
    "import string\n",
    "import re\n",
    "\n",
    "def is_new(title):\n",
    "    title = title.lower()\n",
    "    title = title.strip()\n",
    "    keywords = [\"new\", \"nouveau\", \"renové\", \"rénové\", \"renovated\", \"modern\", \"moderne\", \"luxury\", \"luxe\"]\n",
    "    for keyword in keywords:\n",
    "        if title.find(keyword) != -1:\n",
    "            return True\n",
    "    return False\n",
    "\n",
    "raw_ads_no_duplicates[\"luxury\"] = raw_ads_no_duplicates.apply(lambda row: is_new(row[\"title\"]), axis=1)\n",
    "raw_ads_no_duplicates.head()"
   ]
  },
  {
   "cell_type": "code",
   "execution_count": 26,
   "metadata": {},
   "outputs": [
    {
     "data": {
      "text/plain": "                                                 link   price  \\\n0   https://www.kijiji.ca/v-appartement-condo/vill...   995.0   \n9   https://www.kijiji.ca/v-appartement-condo/vill...  1400.0   \n25  https://www.kijiji.ca/v-appartement-condo/vill...  1490.0   \n29  https://www.kijiji.ca/v-appartement-condo/vill...  1995.0   \n38  https://www.kijiji.ca/v-appartement-condo/vill...  1875.0   \n\n                                                title  \\\n0             BEAU 31/2 RENOVÉ PRÉS DE MÉTRO CADILLAC   \n9   {3 1/2 - Downtown Griffintown} Prime Location ...   \n25  Appartement 4 1/2 à louer plateau mont-royal t...   \n29  Brand New & Modern Large 5 1/2 (3bed) in Heart...   \n38           {4 1/2 vieux montreal }  {Walk Score 99}   \n\n                                              address         type  rooms  \\\n0         3280 DE LA PÉPINIÈRE, MONTREAL, QC, H1N 3N4  Appartement    3.0   \n9     688 Rue Notre-Dame Ouest, Montreal, QC, H3W 1J4        Condo    3.0   \n25             3555, rue Berri, Montreal, QC, H2L 4G4  Appartement    4.0   \n29  4308 Rue Saint-Antoine O, Montréal, QC H4C 1C5...  Appartement    5.0   \n38    688 Rue Notre-Dame Ouest, Montreal, QC, H3W 1J4  Appartement    4.0   \n\n    bathroom  electricity  parking_spots  \\\n0        1.0         True              0   \n9        1.0        False              0   \n25       2.0         True              0   \n29       1.0        False              0   \n38       1.5        False              0   \n\n                                            utilities  furnished   size  \\\n0   , Buanderie (dans l'immeuble), , Réfrigérateur...      False    NaN   \n9   Buanderie (dans l'appartement), , Lave-vaissel...      False    NaN   \n25  , Buanderie (dans l'immeuble), Lave-vaisselle,...      False    NaN   \n29  Buanderie (dans l'appartement), , Lave-vaissel...      False  900.0   \n38  Buanderie (dans l'appartement), , Lave-vaissel...      False    NaN   \n\n    air_conditioned allow_pets  page  distance  luxury  \n0             False        Non     1         9    True  \n9              True        Non     1         1   False  \n25             True        Non     1         2   False  \n29             True     Limité     1         3    True  \n38             True        Non     1         1   False  ",
      "text/html": "<div>\n<style scoped>\n    .dataframe tbody tr th:only-of-type {\n        vertical-align: middle;\n    }\n\n    .dataframe tbody tr th {\n        vertical-align: top;\n    }\n\n    .dataframe thead th {\n        text-align: right;\n    }\n</style>\n<table border=\"1\" class=\"dataframe\">\n  <thead>\n    <tr style=\"text-align: right;\">\n      <th></th>\n      <th>link</th>\n      <th>price</th>\n      <th>title</th>\n      <th>address</th>\n      <th>type</th>\n      <th>rooms</th>\n      <th>bathroom</th>\n      <th>electricity</th>\n      <th>parking_spots</th>\n      <th>utilities</th>\n      <th>furnished</th>\n      <th>size</th>\n      <th>air_conditioned</th>\n      <th>allow_pets</th>\n      <th>page</th>\n      <th>distance</th>\n      <th>luxury</th>\n    </tr>\n  </thead>\n  <tbody>\n    <tr>\n      <th>0</th>\n      <td>https://www.kijiji.ca/v-appartement-condo/vill...</td>\n      <td>995.0</td>\n      <td>BEAU 31/2 RENOVÉ PRÉS DE MÉTRO CADILLAC</td>\n      <td>3280 DE LA PÉPINIÈRE, MONTREAL, QC, H1N 3N4</td>\n      <td>Appartement</td>\n      <td>3.0</td>\n      <td>1.0</td>\n      <td>True</td>\n      <td>0</td>\n      <td>, Buanderie (dans l'immeuble), , Réfrigérateur...</td>\n      <td>False</td>\n      <td>NaN</td>\n      <td>False</td>\n      <td>Non</td>\n      <td>1</td>\n      <td>9</td>\n      <td>True</td>\n    </tr>\n    <tr>\n      <th>9</th>\n      <td>https://www.kijiji.ca/v-appartement-condo/vill...</td>\n      <td>1400.0</td>\n      <td>{3 1/2 - Downtown Griffintown} Prime Location ...</td>\n      <td>688 Rue Notre-Dame Ouest, Montreal, QC, H3W 1J4</td>\n      <td>Condo</td>\n      <td>3.0</td>\n      <td>1.0</td>\n      <td>False</td>\n      <td>0</td>\n      <td>Buanderie (dans l'appartement), , Lave-vaissel...</td>\n      <td>False</td>\n      <td>NaN</td>\n      <td>True</td>\n      <td>Non</td>\n      <td>1</td>\n      <td>1</td>\n      <td>False</td>\n    </tr>\n    <tr>\n      <th>25</th>\n      <td>https://www.kijiji.ca/v-appartement-condo/vill...</td>\n      <td>1490.0</td>\n      <td>Appartement 4 1/2 à louer plateau mont-royal t...</td>\n      <td>3555, rue Berri, Montreal, QC, H2L 4G4</td>\n      <td>Appartement</td>\n      <td>4.0</td>\n      <td>2.0</td>\n      <td>True</td>\n      <td>0</td>\n      <td>, Buanderie (dans l'immeuble), Lave-vaisselle,...</td>\n      <td>False</td>\n      <td>NaN</td>\n      <td>True</td>\n      <td>Non</td>\n      <td>1</td>\n      <td>2</td>\n      <td>False</td>\n    </tr>\n    <tr>\n      <th>29</th>\n      <td>https://www.kijiji.ca/v-appartement-condo/vill...</td>\n      <td>1995.0</td>\n      <td>Brand New &amp; Modern Large 5 1/2 (3bed) in Heart...</td>\n      <td>4308 Rue Saint-Antoine O, Montréal, QC H4C 1C5...</td>\n      <td>Appartement</td>\n      <td>5.0</td>\n      <td>1.0</td>\n      <td>False</td>\n      <td>0</td>\n      <td>Buanderie (dans l'appartement), , Lave-vaissel...</td>\n      <td>False</td>\n      <td>900.0</td>\n      <td>True</td>\n      <td>Limité</td>\n      <td>1</td>\n      <td>3</td>\n      <td>True</td>\n    </tr>\n    <tr>\n      <th>38</th>\n      <td>https://www.kijiji.ca/v-appartement-condo/vill...</td>\n      <td>1875.0</td>\n      <td>{4 1/2 vieux montreal }  {Walk Score 99}</td>\n      <td>688 Rue Notre-Dame Ouest, Montreal, QC, H3W 1J4</td>\n      <td>Appartement</td>\n      <td>4.0</td>\n      <td>1.5</td>\n      <td>False</td>\n      <td>0</td>\n      <td>Buanderie (dans l'appartement), , Lave-vaissel...</td>\n      <td>False</td>\n      <td>NaN</td>\n      <td>True</td>\n      <td>Non</td>\n      <td>1</td>\n      <td>1</td>\n      <td>False</td>\n    </tr>\n  </tbody>\n</table>\n</div>"
     },
     "execution_count": 26,
     "metadata": {},
     "output_type": "execute_result"
    }
   ],
   "source": [
    "data = raw_ads_no_duplicates.copy()\n",
    "data.head()"
   ]
  },
  {
   "cell_type": "markdown",
   "metadata": {},
   "source": [
    "# Visualisation"
   ]
  },
  {
   "cell_type": "code",
   "execution_count": 27,
   "metadata": {},
   "outputs": [
    {
     "name": "stdout",
     "output_type": "stream",
     "text": [
      "<class 'pandas.core.frame.DataFrame'>\n",
      "Int64Index: 237 entries, 0 to 250629\n",
      "Data columns (total 17 columns):\n",
      " #   Column           Non-Null Count  Dtype  \n",
      "---  ------           --------------  -----  \n",
      " 0   link             237 non-null    object \n",
      " 1   price            237 non-null    float64\n",
      " 2   title            237 non-null    object \n",
      " 3   address          237 non-null    object \n",
      " 4   type             237 non-null    object \n",
      " 5   rooms            237 non-null    float64\n",
      " 6   bathroom         237 non-null    float64\n",
      " 7   electricity      237 non-null    bool   \n",
      " 8   parking_spots    237 non-null    int64  \n",
      " 9   utilities        237 non-null    object \n",
      " 10  furnished        237 non-null    bool   \n",
      " 11  size             131 non-null    float64\n",
      " 12  air_conditioned  237 non-null    bool   \n",
      " 13  allow_pets       237 non-null    object \n",
      " 14  page             237 non-null    int64  \n",
      " 15  distance         237 non-null    int64  \n",
      " 16  luxury           237 non-null    bool   \n",
      "dtypes: bool(4), float64(4), int64(3), object(6)\n",
      "memory usage: 36.8+ KB\n"
     ]
    }
   ],
   "source": [
    "data.info()"
   ]
  },
  {
   "cell_type": "code",
   "execution_count": 28,
   "metadata": {},
   "outputs": [
    {
     "data": {
      "text/plain": "             price       rooms    bathroom  parking_spots        size  \\\ncount   237.000000  237.000000  237.000000     237.000000  131.000000   \nmean   1423.684309    3.518987    1.130802       0.232068  632.549618   \nstd     477.042900    1.079792    0.337897       0.470468  232.872934   \nmin     525.000000    1.000000    1.000000       0.000000    1.000000   \n25%    1095.000000    3.000000    1.000000       0.000000  515.000000   \n50%    1375.000000    4.000000    1.000000       0.000000  676.000000   \n75%    1695.000000    4.000000    1.000000       0.000000  800.000000   \nmax    3650.000000    5.000000    2.500000       3.000000  950.000000   \n\n             page    distance  \ncount  237.000000  237.000000  \nmean    26.240506    5.046414  \nstd     23.196406    3.245916  \nmin      1.000000    1.000000  \n25%      5.000000    2.000000  \n50%     21.000000    5.000000  \n75%     45.000000    8.000000  \nmax     80.000000   12.000000  ",
      "text/html": "<div>\n<style scoped>\n    .dataframe tbody tr th:only-of-type {\n        vertical-align: middle;\n    }\n\n    .dataframe tbody tr th {\n        vertical-align: top;\n    }\n\n    .dataframe thead th {\n        text-align: right;\n    }\n</style>\n<table border=\"1\" class=\"dataframe\">\n  <thead>\n    <tr style=\"text-align: right;\">\n      <th></th>\n      <th>price</th>\n      <th>rooms</th>\n      <th>bathroom</th>\n      <th>parking_spots</th>\n      <th>size</th>\n      <th>page</th>\n      <th>distance</th>\n    </tr>\n  </thead>\n  <tbody>\n    <tr>\n      <th>count</th>\n      <td>237.000000</td>\n      <td>237.000000</td>\n      <td>237.000000</td>\n      <td>237.000000</td>\n      <td>131.000000</td>\n      <td>237.000000</td>\n      <td>237.000000</td>\n    </tr>\n    <tr>\n      <th>mean</th>\n      <td>1423.684309</td>\n      <td>3.518987</td>\n      <td>1.130802</td>\n      <td>0.232068</td>\n      <td>632.549618</td>\n      <td>26.240506</td>\n      <td>5.046414</td>\n    </tr>\n    <tr>\n      <th>std</th>\n      <td>477.042900</td>\n      <td>1.079792</td>\n      <td>0.337897</td>\n      <td>0.470468</td>\n      <td>232.872934</td>\n      <td>23.196406</td>\n      <td>3.245916</td>\n    </tr>\n    <tr>\n      <th>min</th>\n      <td>525.000000</td>\n      <td>1.000000</td>\n      <td>1.000000</td>\n      <td>0.000000</td>\n      <td>1.000000</td>\n      <td>1.000000</td>\n      <td>1.000000</td>\n    </tr>\n    <tr>\n      <th>25%</th>\n      <td>1095.000000</td>\n      <td>3.000000</td>\n      <td>1.000000</td>\n      <td>0.000000</td>\n      <td>515.000000</td>\n      <td>5.000000</td>\n      <td>2.000000</td>\n    </tr>\n    <tr>\n      <th>50%</th>\n      <td>1375.000000</td>\n      <td>4.000000</td>\n      <td>1.000000</td>\n      <td>0.000000</td>\n      <td>676.000000</td>\n      <td>21.000000</td>\n      <td>5.000000</td>\n    </tr>\n    <tr>\n      <th>75%</th>\n      <td>1695.000000</td>\n      <td>4.000000</td>\n      <td>1.000000</td>\n      <td>0.000000</td>\n      <td>800.000000</td>\n      <td>45.000000</td>\n      <td>8.000000</td>\n    </tr>\n    <tr>\n      <th>max</th>\n      <td>3650.000000</td>\n      <td>5.000000</td>\n      <td>2.500000</td>\n      <td>3.000000</td>\n      <td>950.000000</td>\n      <td>80.000000</td>\n      <td>12.000000</td>\n    </tr>\n  </tbody>\n</table>\n</div>"
     },
     "execution_count": 28,
     "metadata": {},
     "output_type": "execute_result"
    }
   ],
   "source": [
    "data.describe()"
   ]
  },
  {
   "cell_type": "code",
   "execution_count": 29,
   "metadata": {},
   "outputs": [
    {
     "data": {
      "text/plain": "<AxesSubplot:title={'center':'price'}, xlabel='rooms'>"
     },
     "execution_count": 29,
     "metadata": {},
     "output_type": "execute_result"
    },
    {
     "data": {
      "text/plain": "<Figure size 432x288 with 1 Axes>",
      "image/png": "[encoded data removed]"
     },
     "metadata": {
      "needs_background": "light"
     },
     "output_type": "display_data"
    }
   ],
   "source": [
    "data.boxplot(by=\"rooms\", column=\"price\")"
   ]
  },
  {
   "cell_type": "code",
   "execution_count": 30,
   "metadata": {},
   "outputs": [
    {
     "data": {
      "text/plain": "<AxesSubplot:title={'center':'price'}, xlabel='type'>"
     },
     "execution_count": 30,
     "metadata": {},
     "output_type": "execute_result"
    },
    {
     "data": {
      "text/plain": "<Figure size 432x288 with 1 Axes>",
      "image/png": "[encoded data removed]"
     },
     "metadata": {
      "needs_background": "light"
     },
     "output_type": "display_data"
    }
   ],
   "source": [
    "data.boxplot(by=\"type\", column=\"price\")"
   ]
  },
  {
   "cell_type": "code",
   "execution_count": 31,
   "metadata": {},
   "outputs": [
    {
     "data": {
      "text/plain": "array([[<AxesSubplot:title={'center':'price'}>]], dtype=object)"
     },
     "execution_count": 31,
     "metadata": {},
     "output_type": "execute_result"
    },
    {
     "data": {
      "text/plain": "<Figure size 432x288 with 1 Axes>",
      "image/png": "[encoded data removed]"
     },
     "metadata": {
      "needs_background": "light"
     },
     "output_type": "display_data"
    }
   ],
   "source": [
    "data.hist(column=\"price\")"
   ]
  },
  {
   "cell_type": "code",
   "execution_count": 32,
   "metadata": {},
   "outputs": [
    {
     "data": {
      "text/plain": "array([[<AxesSubplot:title={'center':'distance'}>]], dtype=object)"
     },
     "execution_count": 32,
     "metadata": {},
     "output_type": "execute_result"
    },
    {
     "data": {
      "text/plain": "<Figure size 432x288 with 1 Axes>",
      "image/png": "[encoded data removed]"
     },
     "metadata": {
      "needs_background": "light"
     },
     "output_type": "display_data"
    }
   ],
   "source": [
    "data.hist(column=\"distance\")"
   ]
  },
  {
   "cell_type": "code",
   "execution_count": 33,
   "metadata": {},
   "outputs": [
    {
     "data": {
      "text/plain": "<AxesSubplot:xlabel='distance', ylabel='price'>"
     },
     "execution_count": 33,
     "metadata": {},
     "output_type": "execute_result"
    },
    {
     "data": {
      "text/plain": "<Figure size 432x288 with 1 Axes>",
      "image/png": "[encoded data removed]"
     },
     "metadata": {
      "needs_background": "light"
     },
     "output_type": "display_data"
    }
   ],
   "source": [
    "import seaborn as sns\n",
    "\n",
    "sns.scatterplot(data=data, x=\"distance\", y=\"price\", hue=\"rooms\")"
   ]
  },
  {
   "cell_type": "code",
   "execution_count": 34,
   "metadata": {},
   "outputs": [
    {
     "data": {
      "text/plain": "<AxesSubplot:xlabel='distance', ylabel='price'>"
     },
     "execution_count": 34,
     "metadata": {},
     "output_type": "execute_result"
    },
    {
     "data": {
      "text/plain": "<Figure size 432x288 with 1 Axes>",
      "image/png": "[encoded data removed]"
     },
     "metadata": {
      "needs_background": "light"
     },
     "output_type": "display_data"
    }
   ],
   "source": [
    "sns.regplot(data=data, x=\"distance\", y=\"price\")"
   ]
  },
  {
   "cell_type": "code",
   "execution_count": 35,
   "metadata": {},
   "outputs": [
    {
     "data": {
      "text/plain": "rooms  electricity\n1.0    False          1088.111111\n       True            876.663768\n3.0    False          1164.440741\n       True           1285.858333\n4.0    False          1489.652676\n       True           1659.666667\n5.0    False          1869.515152\n       True           3003.333333\nName: price, dtype: float64"
     },
     "execution_count": 35,
     "metadata": {},
     "output_type": "execute_result"
    }
   ],
   "source": [
    "data.groupby([\"rooms\", \"electricity\"]).mean()[\"price\"]"
   ]
  },
  {
   "cell_type": "code",
   "execution_count": 36,
   "metadata": {},
   "outputs": [
    {
     "data": {
      "text/plain": "rooms  furnished\n1.0    False         935.616977\n       True         1098.333333\n3.0    False        1192.924638\n       True         1269.844444\n4.0    False        1516.964323\n       True         1501.600000\n5.0    False        1862.925926\n       True         2267.222222\nName: price, dtype: float64"
     },
     "execution_count": 36,
     "metadata": {},
     "output_type": "execute_result"
    }
   ],
   "source": [
    "data.groupby([\"rooms\", \"furnished\"]).mean()[\"price\"]"
   ]
  },
  {
   "cell_type": "code",
   "execution_count": 37,
   "metadata": {},
   "outputs": [
    {
     "data": {
      "text/plain": "False    184\nTrue      53\nName: luxury, dtype: int64"
     },
     "execution_count": 37,
     "metadata": {},
     "output_type": "execute_result"
    }
   ],
   "source": [
    "data[\"luxury\"].value_counts()"
   ]
  },
  {
   "cell_type": "code",
   "execution_count": 38,
   "metadata": {},
   "outputs": [
    {
     "data": {
      "text/plain": "rooms  luxury\n1.0    False      925.530435\n       True      1006.666667\n3.0    False     1207.437931\n       True      1185.450000\n4.0    False     1501.370883\n       True      1583.141904\n5.0    False     1952.551724\n       True      2011.428571\nName: price, dtype: float64"
     },
     "execution_count": 38,
     "metadata": {},
     "output_type": "execute_result"
    }
   ],
   "source": [
    "data.groupby([\"rooms\", \"luxury\"]).mean()[\"price\"]"
   ]
  },
  {
   "cell_type": "code",
   "execution_count": 39,
   "metadata": {},
   "outputs": [
    {
     "data": {
      "text/plain": "rooms  parking_spots\n1.0    0                 955.956522\n       1                 955.956522\n3.0    0                1192.886567\n       1                1256.090909\n4.0    0                1482.436283\n       1                1633.616495\n       2                1050.000000\n       3                1400.000000\n5.0    0                1869.750000\n       1                2211.818182\n       2                1500.000000\nName: price, dtype: float64"
     },
     "execution_count": 39,
     "metadata": {},
     "output_type": "execute_result"
    }
   ],
   "source": [
    "data.groupby([\"rooms\", \"parking_spots\"]).mean()[\"price\"]"
   ]
  },
  {
   "cell_type": "code",
   "execution_count": 40,
   "metadata": {},
   "outputs": [
    {
     "data": {
      "text/plain": "rooms  allow_pets\n1.0    Limité        1059.000000\n       Non            846.200000\n       Oui           1020.661836\n3.0    Limité        1155.777778\n       Non           1145.077778\n       Oui           1321.400000\n4.0    Limité        1606.345829\n       Non           1395.831615\n       Oui           1721.933333\n5.0    Limité        1957.933333\n       Non           1965.937500\n       Oui           1976.000000\nName: price, dtype: float64"
     },
     "execution_count": 40,
     "metadata": {},
     "output_type": "execute_result"
    }
   ],
   "source": [
    "data.groupby([\"rooms\", \"allow_pets\"]).mean()[\"price\"]"
   ]
  },
  {
   "cell_type": "code",
   "execution_count": 41,
   "metadata": {},
   "outputs": [
    {
     "data": {
      "text/plain": "rooms  allow_pets\n1.0    Limité         5\n       Non           10\n       Oui            9\n3.0    Limité        18\n       Non           36\n       Oui           24\n4.0    Limité        33\n       Non           51\n       Oui           15\n5.0    Limité        15\n       Non           16\n       Oui            5\nName: link, dtype: int64"
     },
     "execution_count": 41,
     "metadata": {},
     "output_type": "execute_result"
    }
   ],
   "source": [
    "data.groupby([\"rooms\", \"allow_pets\"]).count()[\"link\"]"
   ]
  },
  {
   "cell_type": "markdown",
   "metadata": {},
   "source": [
    "# Prediction with nearest neighbors"
   ]
  },
  {
   "cell_type": "code",
   "execution_count": 42,
   "metadata": {},
   "outputs": [],
   "source": [
    "x_train = data.copy()\n",
    "x_train = x_train.drop(columns=[\"title\", \"page\", \"link\", \"address\", \"size\", \"luxury\", \"price\"])\n"
   ]
  },
  {
   "cell_type": "code",
   "execution_count": 43,
   "metadata": {},
   "outputs": [
    {
     "ename": "ValueError",
     "evalue": "could not convert string to float: 'Appartement'",
     "output_type": "error",
     "traceback": [
      "\u001B[1;31m---------------------------------------------------------------------------\u001B[0m",
      "\u001B[1;31mValueError\u001B[0m                                Traceback (most recent call last)",
      "\u001B[1;32m<ipython-input-43-8ee70dee1c43>\u001B[0m in \u001B[0;36m<module>\u001B[1;34m\u001B[0m\n\u001B[0;32m      1\u001B[0m \u001B[1;32mfrom\u001B[0m \u001B[0msklearn\u001B[0m\u001B[1;33m.\u001B[0m\u001B[0mneighbors\u001B[0m \u001B[1;32mimport\u001B[0m \u001B[0mNearestNeighbors\u001B[0m\u001B[1;33m\u001B[0m\u001B[1;33m\u001B[0m\u001B[0m\n\u001B[0;32m      2\u001B[0m \u001B[0mneigh\u001B[0m \u001B[1;33m=\u001B[0m \u001B[0mNearestNeighbors\u001B[0m\u001B[1;33m(\u001B[0m\u001B[0mn_neighbors\u001B[0m\u001B[1;33m=\u001B[0m\u001B[1;36m1\u001B[0m\u001B[1;33m)\u001B[0m\u001B[1;33m\u001B[0m\u001B[1;33m\u001B[0m\u001B[0m\n\u001B[1;32m----> 3\u001B[1;33m \u001B[0mneigh\u001B[0m\u001B[1;33m.\u001B[0m\u001B[0mfit\u001B[0m\u001B[1;33m(\u001B[0m\u001B[0mx_train\u001B[0m\u001B[1;33m)\u001B[0m\u001B[1;33m\u001B[0m\u001B[1;33m\u001B[0m\u001B[0m\n\u001B[0m",
      "\u001B[1;32mc:\\users\\micdu\\appdata\\local\\programs\\python\\python38\\lib\\site-packages\\sklearn\\neighbors\\_unsupervised.py\u001B[0m in \u001B[0;36mfit\u001B[1;34m(self, X, y)\u001B[0m\n\u001B[0;32m    140\u001B[0m             \u001B[0mThe\u001B[0m \u001B[0mfitted\u001B[0m \u001B[0mnearest\u001B[0m \u001B[0mneighbors\u001B[0m \u001B[0mestimator\u001B[0m\u001B[1;33m.\u001B[0m\u001B[1;33m\u001B[0m\u001B[1;33m\u001B[0m\u001B[0m\n\u001B[0;32m    141\u001B[0m         \"\"\"\n\u001B[1;32m--> 142\u001B[1;33m         \u001B[1;32mreturn\u001B[0m \u001B[0mself\u001B[0m\u001B[1;33m.\u001B[0m\u001B[0m_fit\u001B[0m\u001B[1;33m(\u001B[0m\u001B[0mX\u001B[0m\u001B[1;33m)\u001B[0m\u001B[1;33m\u001B[0m\u001B[1;33m\u001B[0m\u001B[0m\n\u001B[0m",
      "\u001B[1;32mc:\\users\\micdu\\appdata\\local\\programs\\python\\python38\\lib\\site-packages\\sklearn\\neighbors\\_base.py\u001B[0m in \u001B[0;36m_fit\u001B[1;34m(self, X, y)\u001B[0m\n\u001B[0;32m    395\u001B[0m         \u001B[1;32melse\u001B[0m\u001B[1;33m:\u001B[0m\u001B[1;33m\u001B[0m\u001B[1;33m\u001B[0m\u001B[0m\n\u001B[0;32m    396\u001B[0m             \u001B[1;32mif\u001B[0m \u001B[1;32mnot\u001B[0m \u001B[0misinstance\u001B[0m\u001B[1;33m(\u001B[0m\u001B[0mX\u001B[0m\u001B[1;33m,\u001B[0m \u001B[1;33m(\u001B[0m\u001B[0mKDTree\u001B[0m\u001B[1;33m,\u001B[0m \u001B[0mBallTree\u001B[0m\u001B[1;33m,\u001B[0m \u001B[0mNeighborsBase\u001B[0m\u001B[1;33m)\u001B[0m\u001B[1;33m)\u001B[0m\u001B[1;33m:\u001B[0m\u001B[1;33m\u001B[0m\u001B[1;33m\u001B[0m\u001B[0m\n\u001B[1;32m--> 397\u001B[1;33m                 \u001B[0mX\u001B[0m \u001B[1;33m=\u001B[0m \u001B[0mself\u001B[0m\u001B[1;33m.\u001B[0m\u001B[0m_validate_data\u001B[0m\u001B[1;33m(\u001B[0m\u001B[0mX\u001B[0m\u001B[1;33m,\u001B[0m \u001B[0maccept_sparse\u001B[0m\u001B[1;33m=\u001B[0m\u001B[1;34m'csr'\u001B[0m\u001B[1;33m)\u001B[0m\u001B[1;33m\u001B[0m\u001B[1;33m\u001B[0m\u001B[0m\n\u001B[0m\u001B[0;32m    398\u001B[0m \u001B[1;33m\u001B[0m\u001B[0m\n\u001B[0;32m    399\u001B[0m         \u001B[0mself\u001B[0m\u001B[1;33m.\u001B[0m\u001B[0m_check_algorithm_metric\u001B[0m\u001B[1;33m(\u001B[0m\u001B[1;33m)\u001B[0m\u001B[1;33m\u001B[0m\u001B[1;33m\u001B[0m\u001B[0m\n",
      "\u001B[1;32mc:\\users\\micdu\\appdata\\local\\programs\\python\\python38\\lib\\site-packages\\sklearn\\base.py\u001B[0m in \u001B[0;36m_validate_data\u001B[1;34m(self, X, y, reset, validate_separately, **check_params)\u001B[0m\n\u001B[0;32m    419\u001B[0m             \u001B[0mout\u001B[0m \u001B[1;33m=\u001B[0m \u001B[0mX\u001B[0m\u001B[1;33m\u001B[0m\u001B[1;33m\u001B[0m\u001B[0m\n\u001B[0;32m    420\u001B[0m         \u001B[1;32melif\u001B[0m \u001B[0misinstance\u001B[0m\u001B[1;33m(\u001B[0m\u001B[0my\u001B[0m\u001B[1;33m,\u001B[0m \u001B[0mstr\u001B[0m\u001B[1;33m)\u001B[0m \u001B[1;32mand\u001B[0m \u001B[0my\u001B[0m \u001B[1;33m==\u001B[0m \u001B[1;34m'no_validation'\u001B[0m\u001B[1;33m:\u001B[0m\u001B[1;33m\u001B[0m\u001B[1;33m\u001B[0m\u001B[0m\n\u001B[1;32m--> 421\u001B[1;33m             \u001B[0mX\u001B[0m \u001B[1;33m=\u001B[0m \u001B[0mcheck_array\u001B[0m\u001B[1;33m(\u001B[0m\u001B[0mX\u001B[0m\u001B[1;33m,\u001B[0m \u001B[1;33m**\u001B[0m\u001B[0mcheck_params\u001B[0m\u001B[1;33m)\u001B[0m\u001B[1;33m\u001B[0m\u001B[1;33m\u001B[0m\u001B[0m\n\u001B[0m\u001B[0;32m    422\u001B[0m             \u001B[0mout\u001B[0m \u001B[1;33m=\u001B[0m \u001B[0mX\u001B[0m\u001B[1;33m\u001B[0m\u001B[1;33m\u001B[0m\u001B[0m\n\u001B[0;32m    423\u001B[0m         \u001B[1;32melse\u001B[0m\u001B[1;33m:\u001B[0m\u001B[1;33m\u001B[0m\u001B[1;33m\u001B[0m\u001B[0m\n",
      "\u001B[1;32mc:\\users\\micdu\\appdata\\local\\programs\\python\\python38\\lib\\site-packages\\sklearn\\utils\\validation.py\u001B[0m in \u001B[0;36minner_f\u001B[1;34m(*args, **kwargs)\u001B[0m\n\u001B[0;32m     61\u001B[0m             \u001B[0mextra_args\u001B[0m \u001B[1;33m=\u001B[0m \u001B[0mlen\u001B[0m\u001B[1;33m(\u001B[0m\u001B[0margs\u001B[0m\u001B[1;33m)\u001B[0m \u001B[1;33m-\u001B[0m \u001B[0mlen\u001B[0m\u001B[1;33m(\u001B[0m\u001B[0mall_args\u001B[0m\u001B[1;33m)\u001B[0m\u001B[1;33m\u001B[0m\u001B[1;33m\u001B[0m\u001B[0m\n\u001B[0;32m     62\u001B[0m             \u001B[1;32mif\u001B[0m \u001B[0mextra_args\u001B[0m \u001B[1;33m<=\u001B[0m \u001B[1;36m0\u001B[0m\u001B[1;33m:\u001B[0m\u001B[1;33m\u001B[0m\u001B[1;33m\u001B[0m\u001B[0m\n\u001B[1;32m---> 63\u001B[1;33m                 \u001B[1;32mreturn\u001B[0m \u001B[0mf\u001B[0m\u001B[1;33m(\u001B[0m\u001B[1;33m*\u001B[0m\u001B[0margs\u001B[0m\u001B[1;33m,\u001B[0m \u001B[1;33m**\u001B[0m\u001B[0mkwargs\u001B[0m\u001B[1;33m)\u001B[0m\u001B[1;33m\u001B[0m\u001B[1;33m\u001B[0m\u001B[0m\n\u001B[0m\u001B[0;32m     64\u001B[0m \u001B[1;33m\u001B[0m\u001B[0m\n\u001B[0;32m     65\u001B[0m             \u001B[1;31m# extra_args > 0\u001B[0m\u001B[1;33m\u001B[0m\u001B[1;33m\u001B[0m\u001B[1;33m\u001B[0m\u001B[0m\n",
      "\u001B[1;32mc:\\users\\micdu\\appdata\\local\\programs\\python\\python38\\lib\\site-packages\\sklearn\\utils\\validation.py\u001B[0m in \u001B[0;36mcheck_array\u001B[1;34m(array, accept_sparse, accept_large_sparse, dtype, order, copy, force_all_finite, ensure_2d, allow_nd, ensure_min_samples, ensure_min_features, estimator)\u001B[0m\n\u001B[0;32m    614\u001B[0m                     \u001B[0marray\u001B[0m \u001B[1;33m=\u001B[0m \u001B[0marray\u001B[0m\u001B[1;33m.\u001B[0m\u001B[0mastype\u001B[0m\u001B[1;33m(\u001B[0m\u001B[0mdtype\u001B[0m\u001B[1;33m,\u001B[0m \u001B[0mcasting\u001B[0m\u001B[1;33m=\u001B[0m\u001B[1;34m\"unsafe\"\u001B[0m\u001B[1;33m,\u001B[0m \u001B[0mcopy\u001B[0m\u001B[1;33m=\u001B[0m\u001B[1;32mFalse\u001B[0m\u001B[1;33m)\u001B[0m\u001B[1;33m\u001B[0m\u001B[1;33m\u001B[0m\u001B[0m\n\u001B[0;32m    615\u001B[0m                 \u001B[1;32melse\u001B[0m\u001B[1;33m:\u001B[0m\u001B[1;33m\u001B[0m\u001B[1;33m\u001B[0m\u001B[0m\n\u001B[1;32m--> 616\u001B[1;33m                     \u001B[0marray\u001B[0m \u001B[1;33m=\u001B[0m \u001B[0mnp\u001B[0m\u001B[1;33m.\u001B[0m\u001B[0masarray\u001B[0m\u001B[1;33m(\u001B[0m\u001B[0marray\u001B[0m\u001B[1;33m,\u001B[0m \u001B[0morder\u001B[0m\u001B[1;33m=\u001B[0m\u001B[0morder\u001B[0m\u001B[1;33m,\u001B[0m \u001B[0mdtype\u001B[0m\u001B[1;33m=\u001B[0m\u001B[0mdtype\u001B[0m\u001B[1;33m)\u001B[0m\u001B[1;33m\u001B[0m\u001B[1;33m\u001B[0m\u001B[0m\n\u001B[0m\u001B[0;32m    617\u001B[0m             \u001B[1;32mexcept\u001B[0m \u001B[0mComplexWarning\u001B[0m \u001B[1;32mas\u001B[0m \u001B[0mcomplex_warning\u001B[0m\u001B[1;33m:\u001B[0m\u001B[1;33m\u001B[0m\u001B[1;33m\u001B[0m\u001B[0m\n\u001B[0;32m    618\u001B[0m                 raise ValueError(\"Complex data not supported\\n\"\n",
      "\u001B[1;32mc:\\users\\micdu\\appdata\\local\\programs\\python\\python38\\lib\\site-packages\\numpy\\core\\_asarray.py\u001B[0m in \u001B[0;36masarray\u001B[1;34m(a, dtype, order)\u001B[0m\n\u001B[0;32m     83\u001B[0m \u001B[1;33m\u001B[0m\u001B[0m\n\u001B[0;32m     84\u001B[0m     \"\"\"\n\u001B[1;32m---> 85\u001B[1;33m     \u001B[1;32mreturn\u001B[0m \u001B[0marray\u001B[0m\u001B[1;33m(\u001B[0m\u001B[0ma\u001B[0m\u001B[1;33m,\u001B[0m \u001B[0mdtype\u001B[0m\u001B[1;33m,\u001B[0m \u001B[0mcopy\u001B[0m\u001B[1;33m=\u001B[0m\u001B[1;32mFalse\u001B[0m\u001B[1;33m,\u001B[0m \u001B[0morder\u001B[0m\u001B[1;33m=\u001B[0m\u001B[0morder\u001B[0m\u001B[1;33m)\u001B[0m\u001B[1;33m\u001B[0m\u001B[1;33m\u001B[0m\u001B[0m\n\u001B[0m\u001B[0;32m     86\u001B[0m \u001B[1;33m\u001B[0m\u001B[0m\n\u001B[0;32m     87\u001B[0m \u001B[1;33m\u001B[0m\u001B[0m\n",
      "\u001B[1;32mc:\\users\\micdu\\appdata\\local\\programs\\python\\python38\\lib\\site-packages\\pandas\\core\\generic.py\u001B[0m in \u001B[0;36m__array__\u001B[1;34m(self, dtype)\u001B[0m\n\u001B[0;32m   1779\u001B[0m \u001B[1;33m\u001B[0m\u001B[0m\n\u001B[0;32m   1780\u001B[0m     \u001B[1;32mdef\u001B[0m \u001B[0m__array__\u001B[0m\u001B[1;33m(\u001B[0m\u001B[0mself\u001B[0m\u001B[1;33m,\u001B[0m \u001B[0mdtype\u001B[0m\u001B[1;33m=\u001B[0m\u001B[1;32mNone\u001B[0m\u001B[1;33m)\u001B[0m \u001B[1;33m->\u001B[0m \u001B[0mnp\u001B[0m\u001B[1;33m.\u001B[0m\u001B[0mndarray\u001B[0m\u001B[1;33m:\u001B[0m\u001B[1;33m\u001B[0m\u001B[1;33m\u001B[0m\u001B[0m\n\u001B[1;32m-> 1781\u001B[1;33m         \u001B[1;32mreturn\u001B[0m \u001B[0mnp\u001B[0m\u001B[1;33m.\u001B[0m\u001B[0masarray\u001B[0m\u001B[1;33m(\u001B[0m\u001B[0mself\u001B[0m\u001B[1;33m.\u001B[0m\u001B[0m_values\u001B[0m\u001B[1;33m,\u001B[0m \u001B[0mdtype\u001B[0m\u001B[1;33m=\u001B[0m\u001B[0mdtype\u001B[0m\u001B[1;33m)\u001B[0m\u001B[1;33m\u001B[0m\u001B[1;33m\u001B[0m\u001B[0m\n\u001B[0m\u001B[0;32m   1782\u001B[0m \u001B[1;33m\u001B[0m\u001B[0m\n\u001B[0;32m   1783\u001B[0m     \u001B[1;32mdef\u001B[0m \u001B[0m__array_wrap__\u001B[0m\u001B[1;33m(\u001B[0m\u001B[0mself\u001B[0m\u001B[1;33m,\u001B[0m \u001B[0mresult\u001B[0m\u001B[1;33m,\u001B[0m \u001B[0mcontext\u001B[0m\u001B[1;33m=\u001B[0m\u001B[1;32mNone\u001B[0m\u001B[1;33m)\u001B[0m\u001B[1;33m:\u001B[0m\u001B[1;33m\u001B[0m\u001B[1;33m\u001B[0m\u001B[0m\n",
      "\u001B[1;32mc:\\users\\micdu\\appdata\\local\\programs\\python\\python38\\lib\\site-packages\\numpy\\core\\_asarray.py\u001B[0m in \u001B[0;36masarray\u001B[1;34m(a, dtype, order)\u001B[0m\n\u001B[0;32m     83\u001B[0m \u001B[1;33m\u001B[0m\u001B[0m\n\u001B[0;32m     84\u001B[0m     \"\"\"\n\u001B[1;32m---> 85\u001B[1;33m     \u001B[1;32mreturn\u001B[0m \u001B[0marray\u001B[0m\u001B[1;33m(\u001B[0m\u001B[0ma\u001B[0m\u001B[1;33m,\u001B[0m \u001B[0mdtype\u001B[0m\u001B[1;33m,\u001B[0m \u001B[0mcopy\u001B[0m\u001B[1;33m=\u001B[0m\u001B[1;32mFalse\u001B[0m\u001B[1;33m,\u001B[0m \u001B[0morder\u001B[0m\u001B[1;33m=\u001B[0m\u001B[0morder\u001B[0m\u001B[1;33m)\u001B[0m\u001B[1;33m\u001B[0m\u001B[1;33m\u001B[0m\u001B[0m\n\u001B[0m\u001B[0;32m     86\u001B[0m \u001B[1;33m\u001B[0m\u001B[0m\n\u001B[0;32m     87\u001B[0m \u001B[1;33m\u001B[0m\u001B[0m\n",
      "\u001B[1;31mValueError\u001B[0m: could not convert string to float: 'Appartement'"
     ]
    }
   ],
   "source": [
    "from sklearn.neighbors import NearestNeighbors\n",
    "neigh = NearestNeighbors(n_neighbors=1)\n",
    "neigh.fit(x_train)"
   ]
  }
 ],
 "metadata": {
  "kernelspec": {
   "display_name": "Python 3",
   "language": "python",
   "name": "python3"
  },
  "language_info": {
   "codemirror_mode": {
    "name": "ipython",
    "version": 3
   },
   "file_extension": ".py",
   "mimetype": "text/x-python",
   "name": "python",
   "nbconvert_exporter": "python",
   "pygments_lexer": "ipython3",
   "version": "3.8.6"
  }
 },
 "nbformat": 4,
 "nbformat_minor": 1
}